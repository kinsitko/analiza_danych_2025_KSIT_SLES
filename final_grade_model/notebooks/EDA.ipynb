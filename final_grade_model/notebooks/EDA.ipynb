{
 "cells": [
  {
   "cell_type": "markdown",
   "metadata": {},
   "source": [
    "# Eksploracyjna Analiza Danych - na przykładzie danych uczniów uczących się matematyki\n",
    "\n",
    "## Cel analizy\n",
    "Celem tej analizy jest zrozumienie, jakie czynniki demograficzne, społeczne, środowiskowe i związane ze stylem życia wpływają na wyniki uczniów w matematyce. Zbadamy zależności pomiędzy różnymi zmiennymi a oceną końcową z matematyki (`G3`), a także spróbujemy wskazać najważniejsze predyktory sukcesu edukacyjnego.\n",
    "\n",
    "## Opis zbioru danych\n",
    "Zbiór danych **Math Students** pochodzi z repozytorium UCI i zawiera szczegółowe informacje na temat:\n",
    "- **Danych demograficznych**: płeć (`Fedu`), wiek (`age`), adres zamieszkania (`address`), wielkość rodziny (`famsize`), status współzamieszkiwania rodziców (`Pstatus`).\n",
    "- **Wykształcenia i statusu rodziców**: poziom edukacji matki i ojca (`Medu`, `Fedu`), zawód rodziców (`Mjob`, `Fjob`).\n",
    "- **Środowiska szkolnego**: czas nauki (`studytime`), liczba niepowodzeń (`failures`), obecność na zajęciach (`absences`), wsparcie edukacyjne (`schoolsup`, `famsup`).\n",
    "- **Stylu życia i zdrowia**: czas wolny (`freetime`), życie towarzyskie (`goout`), konsumpcja alkoholu (`Dalc`, `Walc`), samoocena stanu zdrowia (`health`).\n",
    "- **Wyników edukacyjnych**: trzy oceny z matematyki – `G1` (pierwszy okres), `G2` (drugi okres) i `G3` (ocena końcowa).\n",
    "\n",
    "## Zmienna zależna\n",
    "- **Główna zmienna zależna**: `G3` (ocena końcowa z matematyki).  \n",
    "- **Inne istotne zmienne zależne**: `G1`, `G2`, `studytime`, `failures`, `absences`, `health`, `Medu`, `Fedu`, `schoolsup`, `famsup`.\n",
    "\n",
    "## Hipotezy badawcze\n",
    "\n",
    "### Główne pytania:\n",
    "1. Jakie czynniki demograficzne i społeczne wpływają na końcowy wynik w matematyce (`G3`)?\n",
    "2. Czy czas nauki i dodatkowe wsparcie edukacyjne przekładają się na lepsze oceny?\n",
    "3. W jakim stopniu styl życia uczniów (zdrowie, czas wolny, picie alkoholu) koreluje z wynikami?\n",
    "\n",
    "### Poboczne pytania:\n",
    "1. Czy wyniki różnią się między dziewczętami a chłopcami?\n",
    "2. Czy uczniowie mieszkający w mieście i na wsi osiągają podobne wyniki?\n",
    "3. Czy poziom edukacji rodziców ma wyraźny wpływ na sukcesy uczniów?\n",
    "4. Czy liczba nieobecności jest negatywnie skorelowana z oceną końcową?\n",
    "5. Jaki jest wpływ poprzednich niepowodzeń na obecną ocenę? \n",
    "6. Jak silny jest wpływ ocen `G1` i `G2` na ocenę końcową `G3`?\n"
   ]
  },
  {
   "cell_type": "code",
   "execution_count": 372,
   "metadata": {},
   "outputs": [],
   "source": [
    "from imports_bib import *\n",
    "from import_data import load_kaggle_dataset\n",
    "from config_data import config\n",
    "import plotly.express as px"
   ]
  },
  {
   "cell_type": "code",
   "execution_count": 373,
   "metadata": {},
   "outputs": [
    {
     "name": "stdout",
     "output_type": "stream",
     "text": [
      "Dataset URL: https://www.kaggle.com/datasets/adilshamim8/math-students\n",
      "Pliki w ZIP: ['Math-Students.csv']\n",
      "  school sex  age address famsize Pstatus  Medu  Fedu     Mjob      Fjob  ...  \\\n",
      "0     GP   F   18       U     GT3       A     4     4  at_home   teacher  ...   \n",
      "1     GP   F   17       U     GT3       T     1     1  at_home     other  ...   \n",
      "2     GP   F   15       U     LE3       T     1     1  at_home     other  ...   \n",
      "3     GP   F   15       U     GT3       T     4     2   health  services  ...   \n",
      "4     GP   F   16       U     GT3       T     3     3    other     other  ...   \n",
      "\n",
      "  famrel freetime  goout  Dalc  Walc health absences  G1  G2  G3  \n",
      "0      4        3      4     1     1      3        6   5   6   6  \n",
      "1      5        3      3     1     1      3        4   5   5   6  \n",
      "2      4        3      2     2     3      3       10   7   8  10  \n",
      "3      3        2      2     1     1      5        2  15  14  15  \n",
      "4      4        3      2     1     2      5        4   6  10  10  \n",
      "\n",
      "[5 rows x 33 columns]\n"
     ]
    }
   ],
   "source": [
    "df = load_kaggle_dataset(\n",
    "    dataset_name=config[\"dataset_name\"],\n",
    "    zip_file_name=config[\"zip_file_name\"],\n",
    "    csv_file_name=config[\"csv_file_name\"],\n",
    "    data_path=config[\"data_path\"]\n",
    ")\n",
    "\n",
    "print(df.head())"
   ]
  },
  {
   "cell_type": "code",
   "execution_count": 374,
   "metadata": {},
   "outputs": [
    {
     "name": "stdout",
     "output_type": "stream",
     "text": [
      "<class 'pandas.core.frame.DataFrame'>\n",
      "RangeIndex: 399 entries, 0 to 398\n",
      "Data columns (total 33 columns):\n",
      " #   Column      Non-Null Count  Dtype \n",
      "---  ------      --------------  ----- \n",
      " 0   school      399 non-null    object\n",
      " 1   sex         399 non-null    object\n",
      " 2   age         399 non-null    int64 \n",
      " 3   address     399 non-null    object\n",
      " 4   famsize     399 non-null    object\n",
      " 5   Pstatus     399 non-null    object\n",
      " 6   Medu        399 non-null    int64 \n",
      " 7   Fedu        399 non-null    int64 \n",
      " 8   Mjob        399 non-null    object\n",
      " 9   Fjob        399 non-null    object\n",
      " 10  reason      399 non-null    object\n",
      " 11  guardian    399 non-null    object\n",
      " 12  traveltime  399 non-null    int64 \n",
      " 13  studytime   399 non-null    int64 \n",
      " 14  failures    399 non-null    int64 \n",
      " 15  schoolsup   399 non-null    object\n",
      " 16  famsup      399 non-null    object\n",
      " 17  paid        399 non-null    object\n",
      " 18  activities  399 non-null    object\n",
      " 19  nursery     399 non-null    object\n",
      " 20  higher      399 non-null    object\n",
      " 21  internet    399 non-null    object\n",
      " 22  romantic    399 non-null    object\n",
      " 23  famrel      399 non-null    int64 \n",
      " 24  freetime    399 non-null    int64 \n",
      " 25  goout       399 non-null    int64 \n",
      " 26  Dalc        399 non-null    int64 \n",
      " 27  Walc        399 non-null    int64 \n",
      " 28  health      399 non-null    int64 \n",
      " 29  absences    399 non-null    int64 \n",
      " 30  G1          399 non-null    int64 \n",
      " 31  G2          399 non-null    int64 \n",
      " 32  G3          399 non-null    int64 \n",
      "dtypes: int64(16), object(17)\n",
      "memory usage: 103.0+ KB\n",
      "None\n"
     ]
    }
   ],
   "source": [
    "print(df.info()) "
   ]
  },
  {
   "cell_type": "code",
   "execution_count": 375,
   "metadata": {},
   "outputs": [
    {
     "name": "stdout",
     "output_type": "stream",
     "text": [
      "              age        Medu        Fedu  traveltime   studytime    failures  \\\n",
      "count  399.000000  399.000000  399.000000  399.000000  399.000000  399.000000   \n",
      "mean    16.709273    2.761905    2.536341    1.443609    2.035088    0.330827   \n",
      "std      1.278225    1.096340    1.092716    0.695429    0.835020    0.740655   \n",
      "min     15.000000    0.000000    0.000000    1.000000    1.000000    0.000000   \n",
      "25%     16.000000    2.000000    2.000000    1.000000    1.000000    0.000000   \n",
      "50%     17.000000    3.000000    3.000000    1.000000    2.000000    0.000000   \n",
      "75%     18.000000    4.000000    3.500000    2.000000    2.000000    0.000000   \n",
      "max     22.000000    4.000000    4.000000    4.000000    4.000000    3.000000   \n",
      "\n",
      "           famrel    freetime       goout        Dalc        Walc      health  \\\n",
      "count  399.000000  399.000000  399.000000  399.000000  399.000000  399.000000   \n",
      "mean     3.954887    3.233083    3.097744    1.476190    2.288221    3.558897   \n",
      "std      0.898335    0.994107    1.113178    0.887552    1.281737    1.384013   \n",
      "min      1.000000    1.000000    1.000000    1.000000    1.000000    1.000000   \n",
      "25%      4.000000    3.000000    2.000000    1.000000    1.000000    3.000000   \n",
      "50%      4.000000    3.000000    3.000000    1.000000    2.000000    4.000000   \n",
      "75%      5.000000    4.000000    4.000000    2.000000    3.000000    5.000000   \n",
      "max      5.000000    5.000000    5.000000    5.000000    5.000000    5.000000   \n",
      "\n",
      "         absences          G1          G2          G3  \n",
      "count  399.000000  399.000000  399.000000  399.000000  \n",
      "mean     5.651629   10.879699   10.676692   10.380952  \n",
      "std      7.983113    3.315195    3.760845    4.571073  \n",
      "min      0.000000    3.000000    0.000000    0.000000  \n",
      "25%      0.000000    8.000000    8.500000    8.000000  \n",
      "50%      4.000000   11.000000   11.000000   11.000000  \n",
      "75%      8.000000   13.000000   13.000000   13.500000  \n",
      "max     75.000000   19.000000   19.000000   20.000000  \n"
     ]
    }
   ],
   "source": [
    "print(df.describe(include=[np.number]))"
   ]
  },
  {
   "cell_type": "code",
   "execution_count": 376,
   "metadata": {},
   "outputs": [
    {
     "name": "stdout",
     "output_type": "stream",
     "text": [
      "(399, 33)\n",
      "0\n"
     ]
    }
   ],
   "source": [
    "print(df.shape)\n",
    "print(df.duplicated().sum())"
   ]
  },
  {
   "cell_type": "code",
   "execution_count": 377,
   "metadata": {},
   "outputs": [
    {
     "name": "stdout",
     "output_type": "stream",
     "text": [
      "\n",
      "Liczba unikalnych:             Liczba unikalnych                         Przykładowe wartości\n",
      "school                      2                                     [GP, MS]\n",
      "sex                         2                                       [F, M]\n",
      "age                         8                         [18, 17, 15, 16, 19]\n",
      "address                     2                                       [U, R]\n",
      "famsize                     2                                   [GT3, LE3]\n",
      "Pstatus                     2                                       [A, T]\n",
      "Medu                        5                              [4, 1, 3, 2, 0]\n",
      "Fedu                        5                              [4, 1, 2, 3, 0]\n",
      "Mjob                        5  [at_home, health, other, services, teacher]\n",
      "Fjob                        5  [teacher, other, services, health, at_home]\n",
      "reason                      4            [course, other, home, reputation]\n",
      "guardian                    3                      [mother, father, other]\n",
      "traveltime                  4                                 [2, 1, 3, 4]\n",
      "studytime                   4                                 [2, 3, 1, 4]\n",
      "failures                    4                                 [0, 3, 2, 1]\n",
      "schoolsup                   2                                    [yes, no]\n",
      "famsup                      2                                    [no, yes]\n",
      "paid                        2                                    [no, yes]\n",
      "activities                  2                                    [no, yes]\n",
      "nursery                     2                                    [yes, no]\n",
      "higher                      2                                    [yes, no]\n",
      "internet                    2                                    [no, yes]\n",
      "romantic                    2                                    [no, yes]\n",
      "famrel                      5                              [4, 5, 3, 1, 2]\n",
      "freetime                    5                              [3, 2, 4, 1, 5]\n",
      "goout                       5                              [4, 3, 2, 1, 5]\n",
      "Dalc                        5                              [1, 2, 5, 3, 4]\n",
      "Walc                        5                              [1, 3, 2, 4, 5]\n",
      "health                      5                              [3, 5, 1, 2, 4]\n",
      "absences                   34                             [6, 4, 10, 2, 0]\n",
      "G1                         17                            [5, 7, 15, 6, 12]\n",
      "G2                         17                            [6, 5, 8, 14, 10]\n",
      "G3                         18                          [6, 10, 15, 11, 19]\n"
     ]
    }
   ],
   "source": [
    "unique = pd.DataFrame({\n",
    "    \"Liczba unikalnych\": {col: df[col].nunique() for col in df.columns},\n",
    "    \"Przykładowe wartości\": {col: df[col].unique()[:5] for col in df.columns}\n",
    "})\n",
    "\n",
    "print(f\"\\nLiczba unikalnych: {unique}\")"
   ]
  },
  {
   "cell_type": "markdown",
   "metadata": {},
   "source": [
    "## Sprawdzanie braków w danych"
   ]
  },
  {
   "cell_type": "code",
   "execution_count": 378,
   "metadata": {},
   "outputs": [
    {
     "name": "stdout",
     "output_type": "stream",
     "text": [
      "school        0\n",
      "sex           0\n",
      "age           0\n",
      "address       0\n",
      "famsize       0\n",
      "Pstatus       0\n",
      "Medu          0\n",
      "Fedu          0\n",
      "Mjob          0\n",
      "Fjob          0\n",
      "reason        0\n",
      "guardian      0\n",
      "traveltime    0\n",
      "studytime     0\n",
      "failures      0\n",
      "schoolsup     0\n",
      "famsup        0\n",
      "paid          0\n",
      "activities    0\n",
      "nursery       0\n",
      "higher        0\n",
      "internet      0\n",
      "romantic      0\n",
      "famrel        0\n",
      "freetime      0\n",
      "goout         0\n",
      "Dalc          0\n",
      "Walc          0\n",
      "health        0\n",
      "absences      0\n",
      "G1            0\n",
      "G2            0\n",
      "G3            0\n",
      "dtype: int64\n",
      "0\n"
     ]
    }
   ],
   "source": [
    "nulls = df.isnull().sum()\n",
    "print(nulls)\n",
    "print(df.duplicated().sum())\n"
   ]
  },
  {
   "cell_type": "markdown",
   "metadata": {},
   "source": [
    "### Sprawdzenie rozkładów"
   ]
  },
  {
   "cell_type": "code",
   "execution_count": 407,
   "metadata": {},
   "outputs": [
    {
     "data": {
      "image/png": "[encoded data removed]",
      "text/plain": [
       "<Figure size 1600x1600 with 6 Axes>"
      ]
     },
     "metadata": {},
     "output_type": "display_data"
    }
   ],
   "source": [
    "fig, axes = plt.subplots(3, 2, figsize=(16, 16))\n",
    "\n",
    "# Rozkład płci\n",
    "sns.countplot(x='sex', data=df, color='brown', ax=axes[0, 0])\n",
    "axes[0, 0].set_title(\"Rozkład płci\")\n",
    "\n",
    "# Rozkład adresów\n",
    "sns.countplot(x='address', data=df, color='orange', ax=axes[0, 1])\n",
    "axes[0, 1].set_title(\"Rozkład miejsca zamieszkania (U - miasto, R - wieś)\")\n",
    "\n",
    "# Wykształcenie matki i ojca\n",
    "sns.histplot(df['Medu'], bins=4, color='blue', alpha=0.6, label='Matka', kde=False, discrete=True, ax=axes[1, 0])\n",
    "sns.histplot(df['Fedu'], bins=4, color='red', alpha=0.4, label='Ojciec', kde=False, discrete=True, ax=axes[1, 0])\n",
    "axes[1, 0].set_title(\"Wykształcenie matki i ojca\")\n",
    "axes[1, 0].set_xlabel(\"Poziom wykształcenia (0-4)\")\n",
    "axes[1, 0].legend(['Matka', 'Ojciec'])\n",
    "\n",
    "# Rozkład niepowodzeń (failures)\n",
    "sns.countplot(x='failures', data=df, color='yellowgreen', ax=axes[1, 1])\n",
    "axes[1, 1].set_title(\"Rozkład niepowodzeń w poprzednich klasach\")\n",
    "axes[1, 1].set_xlabel(\"Liczba niepowodzeń\")\n",
    "\n",
    "sns.histplot(df['absences'], bins=15, kde=False, color='yellow', ax=axes[2, 0])\n",
    "axes[2, 0].set_title(\"Rozkład liczby nieobecności\")\n",
    "\n",
    "axes[2, 1].axis(\"off\")\n",
    "\n",
    "plt.subplots_adjust(hspace=0.5)\n",
    "plt.show()\n",
    "\n",
    "# Histogram nieobecności\n",
    "\n"
   ]
  },
  {
   "cell_type": "markdown",
   "metadata": {},
   "source": [
    "### Sprawdzenie outlierów i zależności"
   ]
  },
  {
   "cell_type": "code",
   "execution_count": 445,
   "metadata": {},
   "outputs": [
    {
     "data": {
      "image/png": "[encoded data removed]",
      "text/plain": [
       "<Figure size 1000x1000 with 6 Axes>"
      ]
     },
     "metadata": {},
     "output_type": "display_data"
    }
   ],
   "source": [
    "\n",
    "# Boxplot oceny końcowej wg płci i miejsca zamieszkania\n",
    "fig, axes = plt.subplots(3, 2, figsize=(10, 10))\n",
    "\n",
    "sns.boxplot(x='sex', y='G3', data=df, ax=axes[0, 0], color='brown')\n",
    "axes[0, 0].set_title(\"Ocena końcowa (G3) wg płci\")\n",
    "\n",
    "sns.boxplot(x='address', y='G3', data=df, ax=axes[0, 1], color='orange')\n",
    "axes[0, 1].set_title(\"Ocena końcowa (G3) wg miejsca zamieszkania\")\n",
    "\n",
    "sns.boxplot(x='Medu', y='G3', data=df, ax=axes[1, 0], color='lightblue')\n",
    "axes[1, 0].set_title(\"Ocena końcowa (G3) wg wykształcenia matki\")\n",
    "\n",
    "sns.boxplot(x='Fedu', y='G3', data=df, ax=axes[1, 1], color='lightcoral')\n",
    "axes[1, 1].set_title(\"Ocena końcowa (G3) wg wykształcenia ojca\")\n",
    "\n",
    "sns.boxplot(x='failures', y='G3', data=df, ax=axes[2, 0], color='yellowgreen')\n",
    "axes[2, 0].set_title(\"Ocena końcowa (G3) wg wcześniejszych niepowodzeń\")\n",
    "\n",
    "sns.boxplot(x='studytime', y='G3', data=df, ax=axes[2, 1], color='deepskyblue')\n",
    "axes[2, 1].set_title(\"Ocena końcowa (G3) wg czasu nauki\")\n",
    "\n",
    "plt.tight_layout()\n",
    "plt.show()\n"
   ]
  },
  {
   "cell_type": "code",
   "execution_count": null,
   "metadata": {},
   "outputs": [
    {
     "data": {
      "image/png": "[encoded data removed]",
      "text/plain": [
       "<Figure size 650x500 with 1 Axes>"
      ]
     },
     "metadata": {},
     "output_type": "display_data"
    },
    {
     "name": "stdout",
     "output_type": "stream",
     "text": [
      "Korelacja Pearsona: 0.03938096353396908 p-wartość: 0.43276406758627106\n",
      "Korelacja Spearmana: 0.035186652563385955 p-wartość: 0.483387398289296\n"
     ]
    },
    {
     "data": {
      "image/png": "[encoded data removed]",
      "text/plain": [
       "<Figure size 600x800 with 2 Axes>"
      ]
     },
     "metadata": {},
     "output_type": "display_data"
    },
    {
     "data": {
      "image/png": "[encoded data removed]",
      "text/plain": [
       "<Figure size 600x800 with 3 Axes>"
      ]
     },
     "metadata": {},
     "output_type": "display_data"
    }
   ],
   "source": [
    "sns.lmplot(data=df, x=\"absences\", y=\"G3\", height=5, aspect=1.3)\n",
    "plt.title(\"Zależność między nieobecnościami a oceną końcową G3\")\n",
    "plt.show()\n",
    "\n",
    "corr, pval = pearsonr(df[\"absences\"], df[\"G3\"])\n",
    "print(\"Korelacja Pearsona:\", corr, \"p-wartość:\", pval)\n",
    "\n",
    "corr_s, pval_s = spearmanr(df[\"absences\"], df[\"G3\"])\n",
    "print(\"Korelacja Spearmana:\", corr_s, \"p-wartość:\", pval_s)\n",
    "\n",
    "fig, axes = plt.subplots(2, 1, figsize=(6, 8))\n",
    "sns.boxplot(data=df, x=\"studytime\", y=\"G3\", hue=\"schoolsup\", ax=axes[0])\n",
    "axes[0].set_title(\"Wpływ czasu nauki i dodatkowego wsparcia w nauce na G3\")\n",
    "\n",
    "sns.boxplot(data=df, x=\"studytime\", y=\"G3\", hue=\"famsup\", ax=axes[1])\n",
    "axes[1].set_title(\"Wpływ czasu nauki i wsparcia od rodziny na G3\")\n",
    "plt.tight_layout()\n",
    "plt.show()\n",
    "\n",
    "fig, axes = plt.subplots(3, 1, figsize=(6, 8))\n",
    "# Wpływ niepowodzeń i internetu\n",
    "sns.boxplot(data=df, x=\"failures\", y=\"G3\", hue=\"internet\", ax=axes[0])\n",
    "axes[0].set_title(\"Wpływ liczby niepowodzeń i dostępu do internetu na ocenę końcową G3\")\n",
    "\n",
    "# Wpływ niepowodzeń i aspiracji edukacyjnych\n",
    "sns.boxplot(data=df, x=\"failures\", y=\"G3\", hue=\"higher\", ax=axes[1])\n",
    "axes[1].set_title(\"Wpływ liczby niepowodzeń i aspiracji edukacyjnych na G3\")\n",
    "\n",
    "# Wpływ liczby niepowodzeń i dodatkowego wsparcia w nauce\n",
    "sns.boxplot(data=df, x=\"failures\", y=\"G3\", hue=\"schoolsup\", ax=axes[2])\n",
    "axes[2].set_title(\"Wpływ liczby niepowodzeń i dodatkowego wsparcia w nauce na G3\")\n",
    "\n",
    "plt.tight_layout()\n",
    "plt.show()\n",
    "\n"
   ]
  },
  {
   "cell_type": "code",
   "execution_count": 448,
   "metadata": {},
   "outputs": [
    {
     "data": {
      "image/png": "[encoded data removed]",
      "text/plain": [
       "<Figure size 600x400 with 1 Axes>"
      ]
     },
     "metadata": {},
     "output_type": "display_data"
    },
    {
     "data": {
      "image/png": "[encoded data removed]",
      "text/plain": [
       "<Figure size 1000x500 with 1 Axes>"
      ]
     },
     "metadata": {},
     "output_type": "display_data"
    },
    {
     "name": "stdout",
     "output_type": "stream",
     "text": [
      "Korelacja Pearsona G1-G3: PearsonRResult(statistic=0.80269470740994, pvalue=3.825731545224979e-91)\n",
      "Korelacja Spearmana G1-G3: SignificanceResult(statistic=0.8778727082003823, pvalue=5.1709878565344694e-129)\n",
      "Korelacja Pearsona G2-G3: PearsonRResult(statistic=0.905304239724968, pvalue=1.0465716926888539e-149)\n",
      "Korelacja Spearmana G2-G3: SignificanceResult(statistic=0.9572133962970999, pvalue=6.697966834553191e-216)\n"
     ]
    }
   ],
   "source": [
    "\n",
    "# Boxplot dla ocen - sprawdzenie outlierów\n",
    "plt.figure(figsize=(6,4))\n",
    "sns.boxplot(data=df[['G1','G2','G3']])\n",
    "plt.title(\"Boxplot ocen (G1, G2, G3)\")\n",
    "plt.show()\n",
    "\n",
    "\n",
    "plt.figure(figsize=(10, 5))\n",
    "bins = np.arange(0.5, 20.5, 1)\n",
    "\n",
    "plt.hist(df['G1'], bins=bins, histtype='step', linewidth=2, color='C0', alpha=0.5, label='G1')\n",
    "plt.hist(df['G2'], bins=bins, histtype='step', linewidth=2, color='C1', alpha=0.5, label='G2')\n",
    "plt.hist(df['G3'], bins=bins, histtype='step', linewidth=2, color='C2', alpha=0.5, label='G3')\n",
    "plt.title(\"Rozkład ocen G1, G2, G3\")\n",
    "plt.xlabel(\"Ocena\")\n",
    "plt.ylabel(\"Liczba uczniów\")\n",
    "plt.xticks(range(0, 21))\n",
    "plt.legend()\n",
    "plt.tight_layout()\n",
    "plt.show()\n",
    "\n",
    "print(\"Korelacja Pearsona G1-G3:\", pearsonr(df['G1'], df['G3']))\n",
    "print(\"Korelacja Spearmana G1-G3:\", spearmanr(df['G1'], df['G3']))\n",
    "\n",
    "print(\"Korelacja Pearsona G2-G3:\", pearsonr(df['G2'], df['G3']))\n",
    "print(\"Korelacja Spearmana G2-G3:\", spearmanr(df['G2'], df['G3']))\n"
   ]
  },
  {
   "cell_type": "code",
   "execution_count": 384,
   "metadata": {},
   "outputs": [
    {
     "data": {
      "image/png": "[encoded data removed]",
      "text/plain": [
       "<Figure size 1000x800 with 2 Axes>"
      ]
     },
     "metadata": {},
     "output_type": "display_data"
    },
    {
     "data": {
      "application/vnd.plotly.v1+json": {
       "config": {
        "plotlyServerURL": "https://plot.ly"
       },
       "data": [
        {
         "coloraxis": "coloraxis",
         "hovertemplate": "x: %{x}<br>y: %{y}<br>color: %{z}<extra></extra>",
         "name": "0",
         "type": "heatmap",
         "x": [
          "age",
          "Medu",
          "Fedu",
          "traveltime",
          "studytime",
          "failures",
          "famrel",
          "freetime",
          "goout",
          "Dalc",
          "Walc",
          "health",
          "absences",
          "G1",
          "G2",
          "G3",
          "school_MS",
          "sex_M",
          "address_U",
          "famsize_LE3",
          "Pstatus_T",
          "Mjob_health",
          "Mjob_other",
          "Mjob_services",
          "Mjob_teacher",
          "Fjob_health",
          "Fjob_other",
          "Fjob_services",
          "Fjob_teacher",
          "reason_home",
          "reason_other",
          "reason_reputation",
          "guardian_mother",
          "guardian_other",
          "schoolsup_yes",
          "famsup_yes",
          "paid_yes",
          "activities_yes",
          "nursery_yes",
          "higher_yes",
          "internet_yes",
          "romantic_yes"
         ],
         "xaxis": "x",
         "y": [
          "age",
          "Medu",
          "Fedu",
          "traveltime",
          "studytime",
          "failures",
          "famrel",
          "freetime",
          "goout",
          "Dalc",
          "Walc",
          "health",
          "absences",
          "G1",
          "G2",
          "G3",
          "school_MS",
          "sex_M",
          "address_U",
          "famsize_LE3",
          "Pstatus_T",
          "Mjob_health",
          "Mjob_other",
          "Mjob_services",
          "Mjob_teacher",
          "Fjob_health",
          "Fjob_other",
          "Fjob_services",
          "Fjob_teacher",
          "reason_home",
          "reason_other",
          "reason_reputation",
          "guardian_mother",
          "guardian_other",
          "schoolsup_yes",
          "famsup_yes",
          "paid_yes",
          "activities_yes",
          "nursery_yes",
          "higher_yes",
          "internet_yes",
          "romantic_yes"
         ],
         "yaxis": "y",
         "z": [
          [
           1,
           -0.14992343299034247,
           -0.14712053158248045,
           0.06348054701445406,
           -0.004542874221621103,
           0.2371998077705719,
           0.06513365756069925,
           0.013915557399210497,
           0.11537537860632115,
           0.1245508168406346,
           0.1141509598819759,
           -0.058469371878173144,
           0.1663489200456926,
           -0.07231024994324799,
           -0.1518364572569286,
           -0.16762699490681832,
           0.38861732903384877,
           -0.017571599337876238,
           -0.14007881635367564,
           0.031040935219357878,
           0.03284619751685472,
           -0.08518939783908269,
           0.024610756297226685,
           -0.013705788661420158,
           -0.03237876270796274,
           -0.11130166197395579,
           0.005435755930872443,
           0.04292848862611061,
           -0.0723603828842468,
           0.011848197015869324,
           0.02375102792802194,
           -0.030543174429188694,
           -0.1255678473619799,
           0.39251436477247237,
           -0.25384845586711896,
           -0.15127850243148488,
           -0.04486969441119935,
           -0.1121565695953743,
           -0.10410193945203038,
           -0.20526491939998645,
           -0.13085300822870566,
           0.1559506591451677
          ],
          [
           -0.14992343299034247,
           1,
           0.6290955627132552,
           -0.17748522623251842,
           0.06404002429160494,
           -0.24002546518638587,
           0.00947564394068299,
           0.02799362267465641,
           0.052057349176693225,
           0.013525433303424005,
           -0.04938341910647115,
           -0.04289542054537849,
           0.09126332480798677,
           0.1932659113105901,
           0.2018779254357673,
           0.2066575547333935,
           -0.0974482869381514,
           0.0892390977002475,
           0.1437957364243652,
           -0.04994312386929583,
           -0.11881595571018601,
           0.24672400209803894,
           -0.24146643172471915,
           0.04458294741570789,
           0.46603747023770875,
           0.08034759910618576,
           -0.11537807652707457,
           -0.025884617571423515,
           0.2548408492325755,
           -0.015654814996359095,
           0.004565169391078405,
           0.11096178664141422,
           0.11899491380335293,
           -0.12119344625361125,
           -0.04015231732976742,
           0.16688768957031058,
           0.1475613350649872,
           0.09548248212455379,
           0.16637418613412336,
           0.1703334683804797,
           0.17051013973616783,
           0.031273132563033185
          ],
          [
           -0.14712053158248045,
           0.6290955627132552,
           1,
           -0.16509690239433827,
           -0.009662022179302928,
           -0.2539399639923433,
           0.014472308521348823,
           -0.015912772698316306,
           0.029089157761166114,
           -0.0049346537022055825,
           -0.015570058340157691,
           0.018933093121110398,
           0.014560304018812682,
           0.175993675026222,
           0.14929613893897872,
           0.14058414224961627,
           -0.04034987789525805,
           0.04854090935294504,
           0.0786399418384177,
           -0.0668117161522735,
           -0.08327076636131338,
           0.11321642516804437,
           -0.2047731930842755,
           0.019715235311926947,
           0.3153498556695672,
           0.15873243726915567,
           -0.2579617005236509,
           0.027490638612510422,
           0.3400872094903998,
           -0.01783800291959628,
           -0.018502050726227542,
           0.0550088212888647,
           -0.037714479048314486,
           -0.09438587177048938,
           0.031959488487193016,
           0.16549728489111684,
           0.07344734833625043,
           0.09735326173714755,
           0.12669511912126075,
           0.17604204280863883,
           0.09385330980370486,
           0.005871694359836514
          ],
          [
           0.06348054701445406,
           -0.17748522623251842,
           -0.16509690239433827,
           1,
           -0.10042745765797151,
           0.09484734695714389,
           -0.024191597530472522,
           -0.015466633208696588,
           0.03472584797855014,
           0.14131192341642898,
           0.1352603144876053,
           0.005417283245539641,
           -0.008299504981170528,
           -0.08686612412593189,
           -0.14580671645607665,
           -0.11178493155606868,
           0.21601720124122492,
           0.05251928049285516,
           -0.3303881672549701,
           0.06732423102667674,
           0.02600160712734505,
           -0.10446317422584495,
           0.04114899587670265,
           -0.04693232358231183,
           -0.06478074779693192,
           -0.08666733308470825,
           0.09635081024833769,
           -0.0330590790416602,
           0.01578038995492641,
           -0.07574409433505114,
           0.00037878787878795013,
           -0.036378415175834906,
           -0.061713777086633184,
           0.050545574868570864,
           -0.006744410984666496,
           0.0047761899094424754,
           -0.06011026227597078,
           -0.0011938030982869914,
           -0.020209994585235765,
           -0.08479893863370971,
           -0.09437425144130347,
           0.026409703559824627
          ],
          [
           -0.004542874221621103,
           0.06404002429160494,
           -0.009662022179302928,
           -0.10042745765797151,
           1,
           -0.17319507180622462,
           0.038960155334539094,
           -0.14305713930149777,
           -0.06316620335443154,
           -0.1955020100332681,
           -0.25362138348344127,
           -0.07571214707155766,
           -0.06223789531841603,
           0.16036470708718767,
           0.13563501824759253,
           0.09786232265621282,
           -0.0885422003438596,
           -0.30501607349505894,
           -0.02110861757538415,
           -0.0731755372303948,
           0.02413540511989419,
           -0.012840923431884723,
           -0.005955902572922423,
           -0.004216739875708,
           -0.009750732492876607,
           0.1211693764733362,
           -0.04013700015514904,
           0.006904035371551374,
           -0.05808171166959959,
           -0.03928249556891929,
           -0.1076526035500831,
           0.19160895215329032,
           -0.024259916149480212,
           0.031835308383896976,
           0.03789743057982735,
           0.1446173914280941,
           0.1669021431253696,
           0.0898425779951079,
           0.08060709701011792,
           0.17493519674639352,
           0.05891355031539331,
           0.05345016093253146
          ],
          [
           0.2371998077705719,
           -0.24002546518638587,
           -0.2539399639923433,
           0.09484734695714389,
           -0.17319507180622462,
           1,
           -0.049261844950585935,
           0.09293181802724862,
           0.1282906658756691,
           0.13814325582768047,
           0.1428014624809778,
           0.064281435981727,
           0.06670935108864831,
           -0.3490594891482347,
           -0.3493728613475131,
           -0.35569456345690326,
           0.045628296460276815,
           0.039419255689752616,
           -0.08079444446787629,
           -0.012856929670025477,
           -0.004865996909735472,
           -0.039416234494266095,
           0.009592468300635863,
           0.10780869557940717,
           -0.16377061135753399,
           -0.01558770784877971,
           -0.03484631471013319,
           0.07983433927149289,
           -0.0730046211314293,
           0.04516397104231287,
           -0.010758657556365939,
           -0.0718793225564946,
           -0.13706734602508655,
           0.29207061413482793,
           0.0012970343810292857,
           -0.04896495502945719,
           -0.1829303598953397,
           -0.06435021520129816,
           -0.09002673940708059,
           -0.30097164855796005,
           -0.0520416822519524,
           0.0959938513400287
          ],
          [
           0.06513365756069925,
           0.00947564394068299,
           0.014472308521348823,
           -0.024191597530472522,
           0.038960155334539094,
           -0.049261844950585935,
           1,
           0.14685153534082804,
           0.05215895637215392,
           -0.08328346572460667,
           -0.11524248721360499,
           0.09712337256974209,
           -0.05229751572092507,
           0.011671749540764286,
           -0.029613501697639454,
           0.042131763321301016,
           -0.014717886210187563,
           0.07055028573803852,
           0.020414497167047938,
           -0.030033976317592442,
           0.02898249388741836,
           -0.06469455533125797,
           0.013796388341765732,
           0.048810320202434275,
           0.006145401212048975,
           -0.015988713415717285,
           0.010293841188707692,
           0.05640509092801422,
           -0.07200212555666348,
           -0.01932532384926355,
           -0.023165287332210086,
           0.005215122836919887,
           -0.0030542893265179203,
           0.045701939520163645,
           -0.005850101620921558,
           -0.034781329931473266,
           -0.010293841188707948,
           0.028312905822365925,
           -0.026160802423660427,
           0.026854976218096727,
           0.006184808047360429,
           -0.07151136816825965
          ],
          [
           0.013915557399210497,
           0.02799362267465641,
           -0.015912772698316306,
           -0.015466633208696588,
           -0.14305713930149777,
           0.09293181802724862,
           0.14685153534082804,
           1,
           0.2858764411325995,
           0.2099140733758288,
           0.1482778706660138,
           0.07491454455561444,
           -0.05622869312607948,
           0.014628628137590536,
           -0.011379284813573014,
           0.01303320827052601,
           0.02551069324093656,
           0.2348770668574436,
           0.03355385390302645,
           0.019157990438584675,
           0.03787905603816811,
           -0.008361403576822359,
           -0.009846734695312118,
           0.023029792151229817,
           0.08047118296167065,
           -0.06318867840549233,
           0.041516459563826456,
           -0.05231898653343251,
           0.0023394301490913725,
           -0.08160997071347806,
           0.04060839985836181,
           -0.05093994893114807,
           -0.0304839952332077,
           0.07008948629252058,
           -0.044508915990367354,
           0.0134036028466966,
           -0.06179814596231659,
           0.09163610202805622,
           -0.01965402639117457,
           -0.06175664736888338,
           0.05519098222070762,
           -0.009479495640251143
          ],
          [
           0.11537537860632115,
           0.052057349176693225,
           0.029089157761166114,
           0.03472584797855014,
           -0.06316620335443154,
           0.1282906658756691,
           0.05215895637215392,
           0.2858764411325995,
           1,
           0.27065542203725834,
           0.42044930116666945,
           -0.012715666903729128,
           0.05105815942020593,
           -0.13910063845930873,
           -0.15087473258635803,
           -0.1243621746930564,
           -0.03327700336311731,
           0.06467003780160539,
           0.06307728109540252,
           0.02922746651375891,
           0.000055820680671612164,
           0.06198240464470801,
           0.005744128870874345,
           0.020256564471187437,
           -0.043932241944398785,
           -0.019109339956643108,
           0.05294091324595123,
           -0.015235662882440886,
           -0.015930101206921878,
           0.001749742551235103,
           -0.011950205569398109,
           -0.04304252867724192,
           0.07302461581912345,
           -0.00936077501975962,
           -0.03365637887772646,
           -0.0030184939729571035,
           0.019508130733074,
           0.05569747525287404,
           0.023719684313447665,
           -0.04179037251908626,
           0.0938957934523074,
           0.014841684298540549
          ],
          [
           0.1245508168406346,
           0.013525433303424005,
           -0.0049346537022055825,
           0.14131192341642898,
           -0.1955020100332681,
           0.13814325582768047,
           -0.08328346572460667,
           0.2099140733758288,
           0.27065542203725834,
           1,
           0.6476561923268899,
           0.0752910233402097,
           0.11531578161166502,
           -0.08892904682024043,
           -0.058390149861286836,
           -0.05039967977594223,
           0.09556569795953998,
           0.2606213633718017,
           -0.09611741224547797,
           0.10460781965380832,
           -0.0323684056239914,
           -0.07281535076292972,
           0.022813793119108645,
           0.03199637372393681,
           0.027129635216968602,
           -0.03502893301051947,
           -0.07274725911606271,
           0.10787401743044146,
           0.0020743976879831613,
           0.025984723068291592,
           0.15648458410498686,
           -0.12095717826291608,
           -0.05464541091295897,
           0.039160746270007214,
           -0.019355233577854927,
           -0.02452812703665634,
           0.06706810505867496,
           -0.06058760475848481,
           -0.07266911583507185,
           -0.0709569806048774,
           0.04708001161977939,
           0.018885706175392446
          ],
          [
           0.1141509598819759,
           -0.04938341910647115,
           -0.015570058340157691,
           0.1352603144876053,
           -0.25362138348344127,
           0.1428014624809778,
           -0.11524248721360499,
           0.1482778706660138,
           0.42044930116666945,
           0.6476561923268899,
           1,
           0.09167732055194634,
           0.13752517460558294,
           -0.12367977385606291,
           -0.08226086232020029,
           -0.050093101579846595,
           0.05670484900517547,
           0.2702283902007079,
           -0.10216759224612297,
           0.10463082577447111,
           0.005268137560859232,
           0.022442847312720646,
           -0.02309596204068214,
           -0.003072267616928804,
           0.0007043126629904964,
           -0.06780369394817787,
           0.05178398670396355,
           0.08877994690923609,
           -0.09319832129539568,
           0.006959495825152423,
           0.09309960394349316,
           -0.08325957390231635,
           0.004941640287210497,
           -0.04485817971927123,
           -0.08619186038334616,
           -0.08315594851539547,
           0.062261028551377426,
           -0.034976795660074146,
           -0.09324683003498808,
           -0.1008108053780351,
           0.016345665009905218,
           -0.008509822680263502
          ],
          [
           -0.058469371878173144,
           -0.04289542054537849,
           0.018933093121110398,
           0.005417283245539641,
           -0.07571214707155766,
           0.064281435981727,
           0.09712337256974209,
           0.07491454455561444,
           -0.012715666903729128,
           0.0752910233402097,
           0.09167732055194634,
           1,
           -0.03213567629247835,
           -0.07566423608682701,
           -0.10035766078120545,
           -0.06352566887305723,
           -0.03255733031728239,
           0.14609286518028178,
           -0.038557256205981605,
           -0.030961755484977236,
           0.023376495520272784,
           0.04544240834419522,
           -0.03718872196253617,
           0.08051803090267674,
           0.00174355568314686,
           0.07809732986598271,
           -0.0030578000929912873,
           -0.03684336178127491,
           0.019499215840097773,
           -0.0037427053075645977,
           0.005567168552728675,
           -0.1424379331103881,
           -0.02288231720802516,
           -0.045960257672958305,
           -0.035317867173404946,
           0.025040867088568442,
           -0.08070766693202701,
           0.02053134608984737,
           -0.024327533521190714,
           -0.015140200439241037,
           -0.08522304978494512,
           0.023990583551046035
          ],
          [
           0.1663489200456926,
           0.09126332480798677,
           0.014560304018812682,
           -0.008299504981170528,
           -0.06223789531841603,
           0.06670935108864831,
           -0.05229751572092507,
           -0.05622869312607948,
           0.05105815942020593,
           0.11531578161166502,
           0.13752517460558294,
           -0.03213567629247835,
           1,
           -0.02456227770277931,
           -0.024515328162161388,
           0.03938096353396905,
           -0.10404278819562794,
           -0.0739126117487561,
           -0.03158168982152952,
           0.04015883541566663,
           -0.13694428643808632,
           -0.04183199300425827,
           0.04808296057689937,
           0.027210932721088425,
           -0.015098580366529838,
           -0.0026190880272198543,
           0.02080141129281287,
           0.00932500536364486,
           -0.02288080130739362,
           0.11496735415841915,
           -0.0016003617641081125,
           0.06618472867348987,
           0.018761421647345292,
           0.1425251552412805,
           0.025199753208345124,
           0.033012718904958466,
           0.013925630991004414,
           -0.006272797946122145,
           0.03254213983140754,
           -0.05757635087550397,
           0.11455996643889059,
           0.15765740494196745
          ],
          [
           -0.07231024994324799,
           0.1932659113105901,
           0.175993675026222,
           -0.08686612412593189,
           0.16036470708718767,
           -0.3490594891482347,
           0.011671749540764286,
           0.014628628137590536,
           -0.13910063845930873,
           -0.08892904682024043,
           -0.12367977385606291,
           -0.07566423608682701,
           -0.02456227770277931,
           1,
           0.8533411449899325,
           0.8026947074099418,
           -0.04797846403773095,
           0.08178992725447164,
           0.06465224294714216,
           0.07659720863255112,
           -0.01977439648272639,
           0.1222453582971641,
           -0.15682544640129845,
           0.09062080041756256,
           0.05528313859943476,
           0.037073378993834206,
           -0.10760804570533372,
           -0.019162296782958676,
           0.17053288141777326,
           -0.011699503870746364,
           -0.004409939498207853,
           0.09375722919181081,
           -0.01754093600877666,
           -0.028288503083235713,
           -0.20826180613938555,
           -0.07264953133886733,
           0.046790580162746294,
           0.06537209635070379,
           0.08462225157149103,
           0.17550930448264884,
           0.08871942144843033,
           -0.030760117039468633
          ],
          [
           -0.1518364572569286,
           0.2018779254357673,
           0.14929613893897872,
           -0.14580671645607665,
           0.13563501824759253,
           -0.3493728613475131,
           -0.029613501697639454,
           -0.011379284813573014,
           -0.15087473258635803,
           -0.058390149861286836,
           -0.08226086232020029,
           -0.10035766078120545,
           -0.024515328162161388,
           0.8533411449899325,
           1,
           0.9053042397249688,
           -0.07423651821497246,
           0.07981099640926033,
           0.11997176796403156,
           0.0869328328865978,
           -0.04451147855332597,
           0.13620441517605233,
           -0.09828703710839472,
           0.08431912286377993,
           0.031394140377537565,
           0.041212932128482385,
           -0.08245173748444694,
           0.02300466693180923,
           0.09863218988225377,
           0.010842312241801223,
           0.04573792738240693,
           0.08072206203900227,
           -0.020917772528174627,
           -0.07039451132263834,
           -0.11293275745216379,
           -0.04611016780732391,
           0.11327792484266302,
           0.06003385748727197,
           0.08558546103522721,
           0.17593337315614233,
           0.13748446870345898,
           -0.10398219173673456
          ],
          [
           -0.16762699490681832,
           0.2066575547333935,
           0.14058414224961627,
           -0.11178493155606868,
           0.09786232265621282,
           -0.35569456345690326,
           0.042131763321301016,
           0.01303320827052601,
           -0.1243621746930564,
           -0.05039967977594223,
           -0.050093101579846595,
           -0.06352566887305723,
           0.03938096353396905,
           0.8026947074099418,
           0.9053042397249688,
           1,
           -0.06308941343099406,
           0.09477144995215717,
           0.10132153767707892,
           0.08575921043303317,
           -0.06035204662328843,
           0.11806920031434479,
           -0.09039842631461255,
           0.08249671143759982,
           0.03846128940687346,
           0.058568167843411116,
           -0.04857151216202343,
           -0.019553076008395762,
           0.09717059863964249,
           -0.016661477772033598,
           0.0541987546938515,
           0.09075706585288007,
           0.01724889226678605,
           -0.08527723815058297,
           -0.07962577435355539,
           -0.02943151419125987,
           0.10811756058552026,
           0.02352823319156669,
           0.06486745317371141,
           0.18018584027251508,
           0.1121022728714831,
           -0.12401066029852006
          ],
          [
           0.38861732903384877,
           -0.0974482869381514,
           -0.04034987789525805,
           0.21601720124122492,
           -0.0885422003438596,
           0.045628296460276815,
           -0.014717886210187563,
           0.02551069324093656,
           -0.03327700336311731,
           0.09556569795953998,
           0.05670484900517547,
           -0.03255733031728239,
           -0.10404278819562794,
           -0.04797846403773095,
           -0.07423651821497246,
           -0.06308941343099406,
           1,
           0.01614146182363619,
           -0.2551089090176303,
           0.045483710362166536,
           0.05329885432530772,
           -0.06129470103946567,
           0.021075476192285596,
           -0.06759023114707793,
           0.04661025681293581,
           -0.08227086308255184,
           -0.0808686381772925,
           0.1149168152659401,
           -0.04764858620644518,
           -0.04517575509277938,
           0.11860235355774242,
           -0.10950897091804099,
           -0.044556364208026875,
           0.05546445698900515,
           -0.14489978956815477,
           -0.19099997023148013,
           -0.04077730577271586,
           -0.13911184838329493,
           -0.1358601104828848,
           -0.017129074872234782,
           -0.18367036943642492,
           0.03955748712909559
          ],
          [
           -0.017571599337876238,
           0.0892390977002475,
           0.04854090935294504,
           0.05251928049285516,
           -0.30501607349505894,
           0.039419255689752616,
           0.07055028573803852,
           0.2348770668574436,
           0.06467003780160539,
           0.2606213633718017,
           0.2702283902007079,
           0.14609286518028178,
           -0.0739126117487561,
           0.08178992725447164,
           0.07981099640926033,
           0.09477144995215717,
           0.01614146182363619,
           1,
           -0.022684630841786544,
           0.08250019831802288,
           0.026875893039157554,
           -0.022923637938220096,
           -0.005208317245850103,
           -0.003505476109747211,
           0.18447780500816904,
           -0.06324896267256049,
           0.02664627921031749,
           0.010102712197132165,
           0.04092686668894252,
           0.04303375516364148,
           0.013429768068117593,
           -0.10442347033789497,
           -0.006522735228750503,
           -0.06129592633571744,
           -0.14144986016816383,
           -0.1627228833964434,
           -0.13749985215257685,
           0.08812215771982676,
           -0.028314459978629823,
           -0.14775257789716056,
           0.01990220389338525,
           -0.10863495843729548
          ],
          [
           -0.14007881635367564,
           0.1437957364243652,
           0.0786399418384177,
           -0.3303881672549701,
           -0.02110861757538415,
           -0.08079444446787629,
           0.020414497167047938,
           0.03355385390302645,
           0.06307728109540252,
           -0.09611741224547797,
           -0.10216759224612297,
           -0.038557256205981605,
           -0.03158168982152952,
           0.06465224294714216,
           0.11997176796403156,
           0.10132153767707892,
           -0.2551089090176303,
           -0.022684630841786544,
           1,
           0.06881466027363965,
           -0.040663301487825466,
           0.0973995682100023,
           -0.03670013142572229,
           0.0651528804071325,
           0.044620259700402475,
           0.057372301900245885,
           -0.0597353255347282,
           0.02579001501910285,
           0.009220101358778642,
           0.1497656218996704,
           -0.043465604507517,
           -0.07369574767917497,
           -0.07750295333094144,
           0.023538723046841882,
           0.022596079921417087,
           0.016994231056542106,
           0.04759350439954915,
           -0.056449578110225225,
           0.048026271865968195,
           0.04401828566013746,
           0.19963770228870487,
           0.0014489332773928373
          ],
          [
           0.031040935219357878,
           -0.04994312386929583,
           -0.0668117161522735,
           0.06732423102667674,
           -0.0731755372303948,
           -0.012856929670025477,
           -0.030033976317592442,
           0.019157990438584675,
           0.02922746651375891,
           0.10460781965380832,
           0.10463082577447111,
           -0.030961755484977236,
           0.04015883541566663,
           0.07659720863255112,
           0.0869328328865978,
           0.08575921043303317,
           0.045483710362166536,
           0.08250019831802288,
           0.06881466027363965,
           1,
           -0.15138908074079596,
           0.005677329558036561,
           -0.06134544409255828,
           0.04527678080522035,
           0.050317266607473043,
           0.022911446554115644,
           0.0191035338305573,
           -0.015831434598000984,
           -0.07021468875035633,
           -0.0017786387594901107,
           -0.0248964798865985,
           -0.007156104547014336,
           0.02236266471498862,
           -0.023344359662783563,
           -0.026110667545228124,
           -0.10382990694519999,
           -0.007959805762732221,
           0.006340585562678911,
           0.11226741078743964,
           -0.007264327122921487,
           0.014586499149789416,
           0.038742285725185295
          ],
          [
           0.03284619751685472,
           -0.11881595571018601,
           -0.08327076636131338,
           0.02600160712734505,
           0.02413540511989419,
           -0.004865996909735472,
           0.02898249388741836,
           0.03787905603816811,
           0.000055820680671612164,
           -0.0323684056239914,
           0.005268137560859232,
           0.023376495520272784,
           -0.13694428643808632,
           -0.01977439648272639,
           -0.04451147855332597,
           -0.06035204662328843,
           0.05329885432530772,
           0.026875893039157554,
           -0.040663301487825466,
           -0.15138908074079596,
           1,
           0.014596438229498281,
           -0.026095430216455797,
           -0.06443145611504537,
           0.031235113577143182,
           -0.04574888390838173,
           -0.00993109016805448,
           0.0844816024579097,
           -0.06422464895532651,
           -0.03333333405176814,
           0.02014495022674644,
           -0.00009339276629802676,
           -0.06335396089600476,
           -0.05202106520118052,
           -0.043493960971079236,
           0.01465160318259499,
           0.043090127632939595,
           0.09334155460456363,
           -0.09543863721645297,
           -0.039912970521373894,
           0.060916874414152535,
           -0.04273564144770991
          ],
          [
           -0.08518939783908269,
           0.24672400209803894,
           0.11321642516804437,
           -0.10446317422584495,
           -0.012840923431884723,
           -0.039416234494266095,
           -0.06469455533125797,
           -0.008361403576822359,
           0.06198240464470801,
           -0.07281535076292972,
           0.022442847312720646,
           0.04544240834419522,
           -0.04183199300425827,
           0.1222453582971641,
           0.13620441517605233,
           0.11806920031434479,
           -0.06129470103946567,
           -0.022923637938220096,
           0.0973995682100023,
           0.005677329558036561,
           0.014596438229498281,
           1,
           -0.22562786277977218,
           -0.18003866465313811,
           -0.13091033089551535,
           0.1931626116174994,
           -0.028424787095250422,
           0.007390155664013522,
           -0.05086890035834412,
           -0.005806303081335603,
           0.09187458874831195,
           0.07866512053392488,
           -0.050735256100307206,
           -0.024021719191761135,
           -0.06306889877180744,
           0.09882943616982338,
           0.08251774441323886,
           0.01565895331616176,
           0.07110073638190441,
           0.07011136446015542,
           0.09357796993165403,
           0.033423250869902575
          ],
          [
           0.024610756297226685,
           -0.24146643172471915,
           -0.2047731930842755,
           0.04114899587670265,
           -0.005955902572922423,
           0.009592468300635863,
           0.013796388341765732,
           -0.009846734695312118,
           0.005744128870874345,
           0.022813793119108645,
           -0.02309596204068214,
           -0.03718872196253617,
           0.04808296057689937,
           -0.15682544640129845,
           -0.09828703710839472,
           -0.09039842631461255,
           0.021075476192285596,
           -0.005208317245850103,
           -0.03670013142572229,
           -0.06134544409255828,
           -0.026095430216455797,
           -0.22562786277977218,
           1,
           -0.43608631706015516,
           -0.31708857747494107,
           -0.11016181904402454,
           0.2839517806033696,
           -0.1854003560370885,
           -0.08579271904986197,
           0.09979268254665878,
           -0.08640859155049296,
           0.025894737916241903,
           -0.10113454433738929,
           0.03265700421063027,
           0.04675438204876694,
           -0.1128917098042343,
           -0.10491804498033039,
           -0.08420589074504597,
           -0.07634854163511519,
           0.001625959605609353,
           -0.031197613401308884,
           0.04851073031495696
          ],
          [
           -0.013705788661420158,
           0.04458294741570789,
           0.019715235311926947,
           -0.04693232358231183,
           -0.004216739875708,
           0.10780869557940717,
           0.048810320202434275,
           0.023029792151229817,
           0.020256564471187437,
           0.03199637372393681,
           -0.003072267616928804,
           0.08051803090267674,
           0.027210932721088425,
           0.09062080041756256,
           0.08431912286377993,
           0.08249671143759982,
           -0.06759023114707793,
           -0.003505476109747211,
           0.0651528804071325,
           0.04527678080522035,
           -0.06443145611504537,
           -0.18003866465313811,
           -0.43608631706015516,
           1,
           -0.2530193007282679,
           -0.017842532549252905,
           -0.16422451142989128,
           0.17579033345718012,
           0.011334165038793307,
           -0.04032994345234744,
           0.03411756920278541,
           0.03074811027676935,
           -0.018723636633268436,
           0.015590122468478636,
           0.04862094852146982,
           0.053092866722350855,
           0.014675259185009564,
           0.0471100417727676,
           0.04115563833832024,
           0.004275769508945057,
           0.09140347390132404,
           -0.037431523057931744
          ],
          [
           -0.03237876270796274,
           0.46603747023770875,
           0.3153498556695672,
           -0.06478074779693192,
           -0.009750732492876607,
           -0.16377061135753399,
           0.006145401212048975,
           0.08047118296167065,
           -0.043932241944398785,
           0.027129635216968602,
           0.0007043126629904964,
           0.00174355568314686,
           -0.015098580366529838,
           0.05528313859943476,
           0.031394140377537565,
           0.03846128940687346,
           0.04661025681293581,
           0.18447780500816904,
           0.044620259700402475,
           0.050317266607473043,
           0.031235113577143182,
           -0.13091033089551535,
           -0.31708857747494107,
           -0.2530193007282679,
           1,
           0.04009883007395842,
           -0.16501245550732366,
           0.05283692124192695,
           0.19969193816070152,
           -0.014552866959438531,
           -0.03848945463779876,
           -0.025400986697351306,
           0.1645316898504013,
           -0.07571220117144335,
           -0.10204155061812778,
           0.03393044753239633,
           0.10942784618066928,
           0.07979491191361565,
           0.05420319510570117,
           0.06682678959165987,
           0.07052328757230837,
           -0.0663313923567235
          ],
          [
           -0.11130166197395579,
           0.08034759910618576,
           0.15873243726915567,
           -0.08666733308470825,
           0.1211693764733362,
           -0.01558770784877971,
           -0.015988713415717285,
           -0.06318867840549233,
           -0.019109339956643108,
           -0.03502893301051947,
           -0.06780369394817787,
           0.07809732986598271,
           -0.0026190880272198543,
           0.037073378993834206,
           0.041212932128482385,
           0.058568167843411116,
           -0.08227086308255184,
           -0.06324896267256049,
           0.057372301900245885,
           0.022911446554115644,
           -0.04574888390838173,
           0.1931626116174994,
           -0.11016181904402454,
           -0.017842532549252905,
           0.04009883007395842,
           1,
           -0.2385408289226873,
           -0.13662493548793225,
           -0.06085158596075495,
           -0.05195776326834884,
           0.05799212744458748,
           0.11374496538730448,
           -0.06542455813273979,
           -0.019722706172800777,
           0.09762077539080212,
           0.10091711691294608,
           0.06875374044637078,
           -0.0016343098564625344,
           0.054105081277085486,
           0.049930872788528514,
           -0.026735823654564502,
           0.0011577936636219346
          ],
          [
           0.005435755930872443,
           -0.11537807652707457,
           -0.2579617005236509,
           0.09635081024833769,
           -0.04013700015514904,
           -0.03484631471013319,
           0.010293841188707692,
           0.041516459563826456,
           0.05294091324595123,
           -0.07274725911606271,
           0.05178398670396355,
           -0.0030578000929912873,
           0.02080141129281287,
           -0.10760804570533372,
           -0.08245173748444694,
           -0.04857151216202343,
           -0.0808686381772925,
           0.02664627921031749,
           -0.0597353255347282,
           0.0191035338305573,
           -0.00993109016805448,
           -0.028424787095250422,
           0.2839517806033696,
           -0.16422451142989128,
           -0.16501245550732366,
           -0.2385408289226873,
           1,
           -0.6898349035126002,
           -0.30724660750916694,
           0.02763567238093117,
           -0.11718520319522219,
           0.017487089079095942,
           0.14922083772852182,
           0.02810475599638162,
           -0.04319206680011247,
           -0.012577777788492926,
           0.02131380201733491,
           -0.048526741065123155,
           -0.06834704156816199,
           0.044465604696564194,
           -0.04969323959596934,
           -0.054784567332877676
          ],
          [
           0.04292848862611061,
           -0.025884617571423515,
           0.027490638612510422,
           -0.0330590790416602,
           0.006904035371551374,
           0.07983433927149289,
           0.05640509092801422,
           -0.05231898653343251,
           -0.015235662882440886,
           0.10787401743044146,
           0.08877994690923609,
           -0.03684336178127491,
           0.00932500536364486,
           -0.019162296782958676,
           0.02300466693180923,
           -0.019553076008395762,
           0.1149168152659401,
           0.010102712197132165,
           0.02579001501910285,
           -0.015831434598000984,
           0.0844816024579097,
           0.007390155664013522,
           -0.1854003560370885,
           0.17579033345718012,
           0.05283692124192695,
           -0.13662493548793225,
           -0.6898349035126002,
           1,
           -0.1759763647984608,
           -0.010856628787149972,
           0.07386606610401321,
           -0.0414772407406373,
           -0.1261507558362304,
           0.01919735264018826,
           -0.04071061539531456,
           -0.07442654170068666,
           -0.002912350002651236,
           0.06758958087004392,
           -0.012598104279813317,
           -0.08503960110034221,
           0.08518574313869393,
           0.019111504632840285
          ],
          [
           -0.0723603828842468,
           0.2548408492325755,
           0.3400872094903998,
           0.01578038995492641,
           -0.05808171166959959,
           -0.0730046211314293,
           -0.07200212555666348,
           0.0023394301490913725,
           -0.015930101206921878,
           0.0020743976879831613,
           -0.09319832129539568,
           0.019499215840097773,
           -0.02288080130739362,
           0.17053288141777326,
           0.09863218988225377,
           0.09717059863964249,
           -0.04764858620644518,
           0.04092686668894252,
           0.009220101358778642,
           -0.07021468875035633,
           -0.06422464895532651,
           -0.05086890035834412,
           -0.08579271904986197,
           0.011334165038793307,
           0.19969193816070152,
           -0.06085158596075495,
           -0.30724660750916694,
           -0.1759763647984608,
           1,
           -0.019981850703506904,
           0.08031119591750643,
           -0.038722470683090954,
           -0.0027832755771688136,
           -0.08266850693245716,
           0.06630503720151307,
           0.06740634130043244,
           -0.061186883716235624,
           -0.011759146168714736,
           0.051350612550681525,
           0.020069849281070237,
           -0.023155520818917287,
           0.028848311841012695
          ],
          [
           0.011848197015869324,
           -0.015654814996359095,
           -0.01783800291959628,
           -0.07574409433505114,
           -0.03928249556891929,
           0.04516397104231287,
           -0.01932532384926355,
           -0.08160997071347806,
           0.001749742551235103,
           0.025984723068291592,
           0.006959495825152423,
           -0.0037427053075645977,
           0.11496735415841915,
           -0.011699503870746364,
           0.010842312241801223,
           -0.016661477772033598,
           -0.04517575509277938,
           0.04303375516364148,
           0.1497656218996704,
           -0.0017786387594901107,
           -0.03333333405176814,
           -0.005806303081335603,
           0.09979268254665878,
           -0.04032994345234744,
           -0.014552866959438531,
           -0.05195776326834884,
           0.02763567238093117,
           -0.010856628787149972,
           -0.019981850703506904,
           1,
           -0.1930688402811011,
           -0.37112030218820985,
           -0.0692392741084383,
           0.08818061220873205,
           0.0011399263854242362,
           0.010243741155449794,
           0.08534212761898242,
           -0.04398268383461204,
           0.03050332535744242,
           0.06350481674070937,
           0.060968664969749745,
           0.03514335082124812
          ],
          [
           0.02375102792802194,
           0.004565169391078405,
           -0.018502050726227542,
           0.00037878787878795013,
           -0.1076526035500831,
           -0.010758657556365939,
           -0.023165287332210086,
           0.04060839985836181,
           -0.011950205569398109,
           0.15648458410498686,
           0.09309960394349316,
           0.005567168552728675,
           -0.0016003617641081125,
           -0.004409939498207853,
           0.04573792738240693,
           0.0541987546938515,
           0.11860235355774242,
           0.013429768068117593,
           -0.043465604507517,
           -0.0248964798865985,
           0.02014495022674644,
           0.09187458874831195,
           -0.08640859155049296,
           0.03411756920278541,
           -0.03848945463779876,
           0.05799212744458748,
           -0.11718520319522219,
           0.07386606610401321,
           0.08031119591750643,
           -0.1930688402811011,
           1,
           -0.19063313982561786,
           0.019129415058081932,
           -0.02857529205649218,
           -0.015759120227040766,
           -0.06866404098141493,
           0.06447167887177951,
           -0.01986383116708693,
           -0.007067976248388457,
           -0.12810645665805281,
           -0.015736607583606798,
           0.07604540815955835
          ],
          [
           -0.030543174429188694,
           0.11096178664141422,
           0.0550088212888647,
           -0.036378415175834906,
           0.19160895215329032,
           -0.0718793225564946,
           0.005215122836919887,
           -0.05093994893114807,
           -0.04304252867724192,
           -0.12095717826291608,
           -0.08325957390231635,
           -0.1424379331103881,
           0.06618472867348987,
           0.09375722919181081,
           0.08072206203900227,
           0.09075706585288007,
           -0.10950897091804099,
           -0.10442347033789497,
           -0.07369574767917497,
           -0.007156104547014336,
           -0.00009339276629802676,
           0.07866512053392488,
           0.025894737916241903,
           0.03074811027676935,
           -0.025400986697351306,
           0.11374496538730448,
           0.017487089079095942,
           -0.0414772407406373,
           -0.038722470683090954,
           -0.37112030218820985,
           -0.19063313982561786,
           1,
           -0.015756757331720474,
           0.008718166025345957,
           0.022422080009518307,
           0.10541563181868925,
           0.06205922981001635,
           0.12557224936408165,
           0.03861155265653177,
           0.08720363700607933,
           0.026356584504934225,
           -0.028839387132284625
          ],
          [
           -0.1255678473619799,
           0.11899491380335293,
           -0.037714479048314486,
           -0.061713777086633184,
           -0.024259916149480212,
           -0.13706734602508655,
           -0.0030542893265179203,
           -0.0304839952332077,
           0.07302461581912345,
           -0.05464541091295897,
           0.004941640287210497,
           -0.02288231720802516,
           0.018761421647345292,
           -0.01754093600877666,
           -0.020917772528174627,
           0.01724889226678605,
           -0.044556364208026875,
           -0.006522735228750503,
           -0.07750295333094144,
           0.02236266471498862,
           -0.06335396089600476,
           -0.050735256100307206,
           -0.10113454433738929,
           -0.018723636633268436,
           0.1645316898504013,
           -0.06542455813273979,
           0.14922083772852182,
           -0.1261507558362304,
           -0.0027832755771688136,
           -0.0692392741084383,
           0.019129415058081932,
           -0.015756757331720474,
           1,
           -0.4449404874172514,
           -0.006614857679395056,
           -0.022326090350038123,
           0.05838480932964001,
           0.015869840465058477,
           0.09313188208234446,
           -0.0028741102862212616,
           -0.03437572277673275,
           -0.042073071676943664
          ],
          [
           0.39251436477247237,
           -0.12119344625361125,
           -0.09438587177048938,
           0.050545574868570864,
           0.031835308383896976,
           0.29207061413482793,
           0.045701939520163645,
           0.07008948629252058,
           -0.00936077501975962,
           0.039160746270007214,
           -0.04485817971927123,
           -0.045960257672958305,
           0.1425251552412805,
           -0.028288503083235713,
           -0.07039451132263834,
           -0.08527723815058297,
           0.05546445698900515,
           -0.06129592633571744,
           0.023538723046841882,
           -0.023344359662783563,
           -0.05202106520118052,
           -0.024021719191761135,
           0.03265700421063027,
           0.015590122468478636,
           -0.07571220117144335,
           -0.019722706172800777,
           0.02810475599638162,
           0.01919735264018826,
           -0.08266850693245716,
           0.08818061220873205,
           -0.02857529205649218,
           0.008718166025345957,
           -0.4449404874172514,
           1,
           -0.05776746625592256,
           0.011172399906050262,
           -0.009569553281412513,
           -0.03913197054101978,
           -0.16188025427096858,
           -0.01674613017522697,
           -0.033625607634390015,
           0.1257823395431044
          ],
          [
           -0.25384845586711896,
           -0.04015231732976742,
           0.031959488487193016,
           -0.006744410984666496,
           0.03789743057982735,
           0.0012970343810292857,
           -0.005850101620921558,
           -0.044508915990367354,
           -0.03365637887772646,
           -0.019355233577854927,
           -0.08619186038334616,
           -0.035317867173404946,
           0.025199753208345124,
           -0.20826180613938555,
           -0.11293275745216379,
           -0.07962577435355539,
           -0.14489978956815477,
           -0.14144986016816383,
           0.022596079921417087,
           -0.026110667545228124,
           -0.043493960971079236,
           -0.06306889877180744,
           0.04675438204876694,
           0.04862094852146982,
           -0.10204155061812778,
           0.09762077539080212,
           -0.04319206680011247,
           -0.04071061539531456,
           0.06630503720151307,
           0.0011399263854242362,
           -0.015759120227040766,
           0.022422080009518307,
           -0.006614857679395056,
           -0.05776746625592256,
           1,
           0.10859676522478122,
           -0.01711811571343042,
           0.049667076500754484,
           0.0525166764239013,
           0.05354048332145692,
           -0.001038717899860927,
           -0.07772826151163618
          ],
          [
           -0.15127850243148488,
           0.16688768957031058,
           0.16549728489111684,
           0.0047761899094424754,
           0.1446173914280941,
           -0.04896495502945719,
           -0.034781329931473266,
           0.0134036028466966,
           -0.0030184939729571035,
           -0.02452812703665634,
           -0.08315594851539547,
           0.025040867088568442,
           0.033012718904958466,
           -0.07264953133886733,
           -0.04611016780732391,
           -0.02943151419125987,
           -0.19099997023148013,
           -0.1627228833964434,
           0.016994231056542106,
           -0.10382990694519999,
           0.01465160318259499,
           0.09882943616982338,
           -0.1128917098042343,
           0.053092866722350855,
           0.03393044753239633,
           0.10091711691294608,
           -0.012577777788492926,
           -0.07442654170068666,
           0.06740634130043244,
           0.010243741155449794,
           -0.06866404098141493,
           0.10541563181868925,
           -0.022326090350038123,
           0.011172399906050262,
           0.10859676522478122,
           1,
           0.30111768220952534,
           0.011186677652097654,
           0.08211828998201882,
           0.09711025518352512,
           0.1275505474711271,
           0.021151484588235785
          ],
          [
           -0.04486969441119935,
           0.1475613350649872,
           0.07344734833625043,
           -0.06011026227597078,
           0.1669021431253696,
           -0.1829303598953397,
           -0.010293841188707948,
           -0.06179814596231659,
           0.019508130733074,
           0.06706810505867496,
           0.062261028551377426,
           -0.08070766693202701,
           0.013925630991004414,
           0.046790580162746294,
           0.11327792484266302,
           0.10811756058552026,
           -0.04077730577271586,
           -0.13749985215257685,
           0.04759350439954915,
           -0.007959805762732221,
           0.043090127632939595,
           0.08251774441323886,
           -0.10491804498033039,
           0.014675259185009564,
           0.10942784618066928,
           0.06875374044637078,
           0.02131380201733491,
           -0.002912350002651236,
           -0.061186883716235624,
           0.08534212761898242,
           0.06447167887177951,
           0.06205922981001635,
           0.05838480932964001,
           -0.009569553281412513,
           -0.01711811571343042,
           0.30111768220952534,
           1,
           -0.01188564484746384,
           0.1175273293692381,
           0.18624670055609052,
           0.16881768778630687,
           0.011986638080174512
          ],
          [
           -0.1121565695953743,
           0.09548248212455379,
           0.09735326173714755,
           -0.0011938030982869914,
           0.0898425779951079,
           -0.06435021520129816,
           0.028312905822365925,
           0.09163610202805622,
           0.05569747525287404,
           -0.06058760475848481,
           -0.034976795660074146,
           0.02053134608984737,
           -0.006272797946122145,
           0.06537209635070379,
           0.06003385748727197,
           0.02352823319156669,
           -0.13911184838329493,
           0.08812215771982676,
           -0.056449578110225225,
           0.006340585562678911,
           0.09334155460456363,
           0.01565895331616176,
           -0.08420589074504597,
           0.0471100417727676,
           0.07979491191361565,
           -0.0016343098564625344,
           -0.048526741065123155,
           0.06758958087004392,
           -0.011759146168714736,
           -0.04398268383461204,
           -0.01986383116708693,
           0.12557224936408165,
           0.015869840465058477,
           -0.03913197054101978,
           0.049667076500754484,
           0.011186677652097654,
           -0.01188564484746384,
           1,
           0.02227571793201204,
           0.09361712820588601,
           0.06936520943938725,
           0.026674253125734338
          ],
          [
           -0.10410193945203038,
           0.16637418613412336,
           0.12669511912126075,
           -0.020209994585235765,
           0.08060709701011792,
           -0.09002673940708059,
           -0.026160802423660427,
           -0.01965402639117457,
           0.023719684313447665,
           -0.07266911583507185,
           -0.09324683003498808,
           -0.024327533521190714,
           0.03254213983140754,
           0.08462225157149103,
           0.08558546103522721,
           0.06486745317371141,
           -0.1358601104828848,
           -0.028314459978629823,
           0.048026271865968195,
           0.11226741078743964,
           -0.09543863721645297,
           0.07110073638190441,
           -0.07634854163511519,
           0.04115563833832024,
           0.05420319510570117,
           0.054105081277085486,
           -0.06834704156816199,
           -0.012598104279813317,
           0.051350612550681525,
           0.03050332535744242,
           -0.007067976248388457,
           0.03861155265653177,
           0.09313188208234446,
           -0.16188025427096858,
           0.0525166764239013,
           0.08211828998201882,
           0.1175273293692381,
           0.02227571793201204,
           1,
           0.04879222024647713,
           0.04969234044689794,
           0.040593123331412184
          ],
          [
           -0.20526491939998645,
           0.1703334683804797,
           0.17604204280863883,
           -0.08479893863370971,
           0.17493519674639352,
           -0.30097164855796005,
           0.026854976218096727,
           -0.06175664736888338,
           -0.04179037251908626,
           -0.0709569806048774,
           -0.1008108053780351,
           -0.015140200439241037,
           -0.05757635087550397,
           0.17550930448264884,
           0.17593337315614233,
           0.18018584027251508,
           -0.017129074872234782,
           -0.14775257789716056,
           0.04401828566013746,
           -0.007264327122921487,
           -0.039912970521373894,
           0.07011136446015542,
           0.001625959605609353,
           0.004275769508945057,
           0.06682678959165987,
           0.049930872788528514,
           0.044465604696564194,
           -0.08503960110034221,
           0.020069849281070237,
           0.06350481674070937,
           -0.12810645665805281,
           0.08720363700607933,
           -0.0028741102862212616,
           -0.01674613017522697,
           0.05354048332145692,
           0.09711025518352512,
           0.18624670055609052,
           0.09361712820588601,
           0.04879222024647713,
           1,
           0.01483455419632003,
           -0.10700710393663405
          ],
          [
           -0.13085300822870566,
           0.17051013973616783,
           0.09385330980370486,
           -0.09437425144130347,
           0.05891355031539331,
           -0.0520416822519524,
           0.006184808047360429,
           0.05519098222070762,
           0.0938957934523074,
           0.04708001161977939,
           0.016345665009905218,
           -0.08522304978494512,
           0.11455996643889059,
           0.08871942144843033,
           0.13748446870345898,
           0.1121022728714831,
           -0.18367036943642492,
           0.01990220389338525,
           0.19963770228870487,
           0.014586499149789416,
           0.060916874414152535,
           0.09357796993165403,
           -0.031197613401308884,
           0.09140347390132404,
           0.07052328757230837,
           -0.026735823654564502,
           -0.04969323959596934,
           0.08518574313869393,
           -0.023155520818917287,
           0.060968664969749745,
           -0.015736607583606798,
           0.026356584504934225,
           -0.03437572277673275,
           -0.033625607634390015,
           -0.001038717899860927,
           0.1275505474711271,
           0.16881768778630687,
           0.06936520943938725,
           0.04969234044689794,
           0.01483455419632003,
           1,
           0.10024636593863338
          ],
          [
           0.1559506591451677,
           0.031273132563033185,
           0.005871694359836514,
           0.026409703559824627,
           0.05345016093253146,
           0.0959938513400287,
           -0.07151136816825965,
           -0.009479495640251143,
           0.014841684298540549,
           0.018885706175392446,
           -0.008509822680263502,
           0.023990583551046035,
           0.15765740494196745,
           -0.030760117039468633,
           -0.10398219173673456,
           -0.12401066029852006,
           0.03955748712909559,
           -0.10863495843729548,
           0.0014489332773928373,
           0.038742285725185295,
           -0.04273564144770991,
           0.033423250869902575,
           0.04851073031495696,
           -0.037431523057931744,
           -0.0663313923567235,
           0.0011577936636219346,
           -0.054784567332877676,
           0.019111504632840285,
           0.028848311841012695,
           0.03514335082124812,
           0.07604540815955835,
           -0.028839387132284625,
           -0.042073071676943664,
           0.1257823395431044,
           -0.07772826151163618,
           0.021151484588235785,
           0.011986638080174512,
           0.026674253125734338,
           0.040593123331412184,
           -0.10700710393663405,
           0.10024636593863338,
           1
          ]
         ]
        }
       ],
       "layout": {
        "coloraxis": {
         "cmax": 1,
         "cmin": -1,
         "colorscale": [
          [
           0,
           "rgb(5,48,97)"
          ],
          [
           0.1,
           "rgb(33,102,172)"
          ],
          [
           0.2,
           "rgb(67,147,195)"
          ],
          [
           0.3,
           "rgb(146,197,222)"
          ],
          [
           0.4,
           "rgb(209,229,240)"
          ],
          [
           0.5,
           "rgb(247,247,247)"
          ],
          [
           0.6,
           "rgb(253,219,199)"
          ],
          [
           0.7,
           "rgb(244,165,130)"
          ],
          [
           0.8,
           "rgb(214,96,77)"
          ],
          [
           0.9,
           "rgb(178,24,43)"
          ],
          [
           1,
           "rgb(103,0,31)"
          ]
         ]
        },
        "height": 600,
        "template": {
         "data": {
          "bar": [
           {
            "error_x": {
             "color": "#2a3f5f"
            },
            "error_y": {
             "color": "#2a3f5f"
            },
            "marker": {
             "line": {
              "color": "#E5ECF6",
              "width": 0.5
             },
             "pattern": {
              "fillmode": "overlay",
              "size": 10,
              "solidity": 0.2
             }
            },
            "type": "bar"
           }
          ],
          "barpolar": [
           {
            "marker": {
             "line": {
              "color": "#E5ECF6",
              "width": 0.5
             },
             "pattern": {
              "fillmode": "overlay",
              "size": 10,
              "solidity": 0.2
             }
            },
            "type": "barpolar"
           }
          ],
          "carpet": [
           {
            "aaxis": {
             "endlinecolor": "#2a3f5f",
             "gridcolor": "white",
             "linecolor": "white",
             "minorgridcolor": "white",
             "startlinecolor": "#2a3f5f"
            },
            "baxis": {
             "endlinecolor": "#2a3f5f",
             "gridcolor": "white",
             "linecolor": "white",
             "minorgridcolor": "white",
             "startlinecolor": "#2a3f5f"
            },
            "type": "carpet"
           }
          ],
          "choropleth": [
           {
            "colorbar": {
             "outlinewidth": 0,
             "ticks": ""
            },
            "type": "choropleth"
           }
          ],
          "contour": [
           {
            "colorbar": {
             "outlinewidth": 0,
             "ticks": ""
            },
            "colorscale": [
             [
              0,
              "#0d0887"
             ],
             [
              0.1111111111111111,
              "#46039f"
             ],
             [
              0.2222222222222222,
              "#7201a8"
             ],
             [
              0.3333333333333333,
              "#9c179e"
             ],
             [
              0.4444444444444444,
              "#bd3786"
             ],
             [
              0.5555555555555556,
              "#d8576b"
             ],
             [
              0.6666666666666666,
              "#ed7953"
             ],
             [
              0.7777777777777778,
              "#fb9f3a"
             ],
             [
              0.8888888888888888,
              "#fdca26"
             ],
             [
              1,
              "#f0f921"
             ]
            ],
            "type": "contour"
           }
          ],
          "contourcarpet": [
           {
            "colorbar": {
             "outlinewidth": 0,
             "ticks": ""
            },
            "type": "contourcarpet"
           }
          ],
          "heatmap": [
           {
            "colorbar": {
             "outlinewidth": 0,
             "ticks": ""
            },
            "colorscale": [
             [
              0,
              "#0d0887"
             ],
             [
              0.1111111111111111,
              "#46039f"
             ],
             [
              0.2222222222222222,
              "#7201a8"
             ],
             [
              0.3333333333333333,
              "#9c179e"
             ],
             [
              0.4444444444444444,
              "#bd3786"
             ],
             [
              0.5555555555555556,
              "#d8576b"
             ],
             [
              0.6666666666666666,
              "#ed7953"
             ],
             [
              0.7777777777777778,
              "#fb9f3a"
             ],
             [
              0.8888888888888888,
              "#fdca26"
             ],
             [
              1,
              "#f0f921"
             ]
            ],
            "type": "heatmap"
           }
          ],
          "heatmapgl": [
           {
            "colorbar": {
             "outlinewidth": 0,
             "ticks": ""
            },
            "colorscale": [
             [
              0,
              "#0d0887"
             ],
             [
              0.1111111111111111,
              "#46039f"
             ],
             [
              0.2222222222222222,
              "#7201a8"
             ],
             [
              0.3333333333333333,
              "#9c179e"
             ],
             [
              0.4444444444444444,
              "#bd3786"
             ],
             [
              0.5555555555555556,
              "#d8576b"
             ],
             [
              0.6666666666666666,
              "#ed7953"
             ],
             [
              0.7777777777777778,
              "#fb9f3a"
             ],
             [
              0.8888888888888888,
              "#fdca26"
             ],
             [
              1,
              "#f0f921"
             ]
            ],
            "type": "heatmapgl"
           }
          ],
          "histogram": [
           {
            "marker": {
             "pattern": {
              "fillmode": "overlay",
              "size": 10,
              "solidity": 0.2
             }
            },
            "type": "histogram"
           }
          ],
          "histogram2d": [
           {
            "colorbar": {
             "outlinewidth": 0,
             "ticks": ""
            },
            "colorscale": [
             [
              0,
              "#0d0887"
             ],
             [
              0.1111111111111111,
              "#46039f"
             ],
             [
              0.2222222222222222,
              "#7201a8"
             ],
             [
              0.3333333333333333,
              "#9c179e"
             ],
             [
              0.4444444444444444,
              "#bd3786"
             ],
             [
              0.5555555555555556,
              "#d8576b"
             ],
             [
              0.6666666666666666,
              "#ed7953"
             ],
             [
              0.7777777777777778,
              "#fb9f3a"
             ],
             [
              0.8888888888888888,
              "#fdca26"
             ],
             [
              1,
              "#f0f921"
             ]
            ],
            "type": "histogram2d"
           }
          ],
          "histogram2dcontour": [
           {
            "colorbar": {
             "outlinewidth": 0,
             "ticks": ""
            },
            "colorscale": [
             [
              0,
              "#0d0887"
             ],
             [
              0.1111111111111111,
              "#46039f"
             ],
             [
              0.2222222222222222,
              "#7201a8"
             ],
             [
              0.3333333333333333,
              "#9c179e"
             ],
             [
              0.4444444444444444,
              "#bd3786"
             ],
             [
              0.5555555555555556,
              "#d8576b"
             ],
             [
              0.6666666666666666,
              "#ed7953"
             ],
             [
              0.7777777777777778,
              "#fb9f3a"
             ],
             [
              0.8888888888888888,
              "#fdca26"
             ],
             [
              1,
              "#f0f921"
             ]
            ],
            "type": "histogram2dcontour"
           }
          ],
          "mesh3d": [
           {
            "colorbar": {
             "outlinewidth": 0,
             "ticks": ""
            },
            "type": "mesh3d"
           }
          ],
          "parcoords": [
           {
            "line": {
             "colorbar": {
              "outlinewidth": 0,
              "ticks": ""
             }
            },
            "type": "parcoords"
           }
          ],
          "pie": [
           {
            "automargin": true,
            "type": "pie"
           }
          ],
          "scatter": [
           {
            "fillpattern": {
             "fillmode": "overlay",
             "size": 10,
             "solidity": 0.2
            },
            "type": "scatter"
           }
          ],
          "scatter3d": [
           {
            "line": {
             "colorbar": {
              "outlinewidth": 0,
              "ticks": ""
             }
            },
            "marker": {
             "colorbar": {
              "outlinewidth": 0,
              "ticks": ""
             }
            },
            "type": "scatter3d"
           }
          ],
          "scattercarpet": [
           {
            "marker": {
             "colorbar": {
              "outlinewidth": 0,
              "ticks": ""
             }
            },
            "type": "scattercarpet"
           }
          ],
          "scattergeo": [
           {
            "marker": {
             "colorbar": {
              "outlinewidth": 0,
              "ticks": ""
             }
            },
            "type": "scattergeo"
           }
          ],
          "scattergl": [
           {
            "marker": {
             "colorbar": {
              "outlinewidth": 0,
              "ticks": ""
             }
            },
            "type": "scattergl"
           }
          ],
          "scattermapbox": [
           {
            "marker": {
             "colorbar": {
              "outlinewidth": 0,
              "ticks": ""
             }
            },
            "type": "scattermapbox"
           }
          ],
          "scatterpolar": [
           {
            "marker": {
             "colorbar": {
              "outlinewidth": 0,
              "ticks": ""
             }
            },
            "type": "scatterpolar"
           }
          ],
          "scatterpolargl": [
           {
            "marker": {
             "colorbar": {
              "outlinewidth": 0,
              "ticks": ""
             }
            },
            "type": "scatterpolargl"
           }
          ],
          "scatterternary": [
           {
            "marker": {
             "colorbar": {
              "outlinewidth": 0,
              "ticks": ""
             }
            },
            "type": "scatterternary"
           }
          ],
          "surface": [
           {
            "colorbar": {
             "outlinewidth": 0,
             "ticks": ""
            },
            "colorscale": [
             [
              0,
              "#0d0887"
             ],
             [
              0.1111111111111111,
              "#46039f"
             ],
             [
              0.2222222222222222,
              "#7201a8"
             ],
             [
              0.3333333333333333,
              "#9c179e"
             ],
             [
              0.4444444444444444,
              "#bd3786"
             ],
             [
              0.5555555555555556,
              "#d8576b"
             ],
             [
              0.6666666666666666,
              "#ed7953"
             ],
             [
              0.7777777777777778,
              "#fb9f3a"
             ],
             [
              0.8888888888888888,
              "#fdca26"
             ],
             [
              1,
              "#f0f921"
             ]
            ],
            "type": "surface"
           }
          ],
          "table": [
           {
            "cells": {
             "fill": {
              "color": "#EBF0F8"
             },
             "line": {
              "color": "white"
             }
            },
            "header": {
             "fill": {
              "color": "#C8D4E3"
             },
             "line": {
              "color": "white"
             }
            },
            "type": "table"
           }
          ]
         },
         "layout": {
          "annotationdefaults": {
           "arrowcolor": "#2a3f5f",
           "arrowhead": 0,
           "arrowwidth": 1
          },
          "autotypenumbers": "strict",
          "coloraxis": {
           "colorbar": {
            "outlinewidth": 0,
            "ticks": ""
           }
          },
          "colorscale": {
           "diverging": [
            [
             0,
             "#8e0152"
            ],
            [
             0.1,
             "#c51b7d"
            ],
            [
             0.2,
             "#de77ae"
            ],
            [
             0.3,
             "#f1b6da"
            ],
            [
             0.4,
             "#fde0ef"
            ],
            [
             0.5,
             "#f7f7f7"
            ],
            [
             0.6,
             "#e6f5d0"
            ],
            [
             0.7,
             "#b8e186"
            ],
            [
             0.8,
             "#7fbc41"
            ],
            [
             0.9,
             "#4d9221"
            ],
            [
             1,
             "#276419"
            ]
           ],
           "sequential": [
            [
             0,
             "#0d0887"
            ],
            [
             0.1111111111111111,
             "#46039f"
            ],
            [
             0.2222222222222222,
             "#7201a8"
            ],
            [
             0.3333333333333333,
             "#9c179e"
            ],
            [
             0.4444444444444444,
             "#bd3786"
            ],
            [
             0.5555555555555556,
             "#d8576b"
            ],
            [
             0.6666666666666666,
             "#ed7953"
            ],
            [
             0.7777777777777778,
             "#fb9f3a"
            ],
            [
             0.8888888888888888,
             "#fdca26"
            ],
            [
             1,
             "#f0f921"
            ]
           ],
           "sequentialminus": [
            [
             0,
             "#0d0887"
            ],
            [
             0.1111111111111111,
             "#46039f"
            ],
            [
             0.2222222222222222,
             "#7201a8"
            ],
            [
             0.3333333333333333,
             "#9c179e"
            ],
            [
             0.4444444444444444,
             "#bd3786"
            ],
            [
             0.5555555555555556,
             "#d8576b"
            ],
            [
             0.6666666666666666,
             "#ed7953"
            ],
            [
             0.7777777777777778,
             "#fb9f3a"
            ],
            [
             0.8888888888888888,
             "#fdca26"
            ],
            [
             1,
             "#f0f921"
            ]
           ]
          },
          "colorway": [
           "#636efa",
           "#EF553B",
           "#00cc96",
           "#ab63fa",
           "#FFA15A",
           "#19d3f3",
           "#FF6692",
           "#B6E880",
           "#FF97FF",
           "#FECB52"
          ],
          "font": {
           "color": "#2a3f5f"
          },
          "geo": {
           "bgcolor": "white",
           "lakecolor": "white",
           "landcolor": "#E5ECF6",
           "showlakes": true,
           "showland": true,
           "subunitcolor": "white"
          },
          "hoverlabel": {
           "align": "left"
          },
          "hovermode": "closest",
          "mapbox": {
           "style": "light"
          },
          "paper_bgcolor": "white",
          "plot_bgcolor": "#E5ECF6",
          "polar": {
           "angularaxis": {
            "gridcolor": "white",
            "linecolor": "white",
            "ticks": ""
           },
           "bgcolor": "#E5ECF6",
           "radialaxis": {
            "gridcolor": "white",
            "linecolor": "white",
            "ticks": ""
           }
          },
          "scene": {
           "xaxis": {
            "backgroundcolor": "#E5ECF6",
            "gridcolor": "white",
            "gridwidth": 2,
            "linecolor": "white",
            "showbackground": true,
            "ticks": "",
            "zerolinecolor": "white"
           },
           "yaxis": {
            "backgroundcolor": "#E5ECF6",
            "gridcolor": "white",
            "gridwidth": 2,
            "linecolor": "white",
            "showbackground": true,
            "ticks": "",
            "zerolinecolor": "white"
           },
           "zaxis": {
            "backgroundcolor": "#E5ECF6",
            "gridcolor": "white",
            "gridwidth": 2,
            "linecolor": "white",
            "showbackground": true,
            "ticks": "",
            "zerolinecolor": "white"
           }
          },
          "shapedefaults": {
           "line": {
            "color": "#2a3f5f"
           }
          },
          "ternary": {
           "aaxis": {
            "gridcolor": "white",
            "linecolor": "white",
            "ticks": ""
           },
           "baxis": {
            "gridcolor": "white",
            "linecolor": "white",
            "ticks": ""
           },
           "bgcolor": "#E5ECF6",
           "caxis": {
            "gridcolor": "white",
            "linecolor": "white",
            "ticks": ""
           }
          },
          "title": {
           "x": 0.05
          },
          "xaxis": {
           "automargin": true,
           "gridcolor": "white",
           "linecolor": "white",
           "ticks": "",
           "title": {
            "standoff": 15
           },
           "zerolinecolor": "white",
           "zerolinewidth": 2
          },
          "yaxis": {
           "automargin": true,
           "gridcolor": "white",
           "linecolor": "white",
           "ticks": "",
           "title": {
            "standoff": 15
           },
           "zerolinecolor": "white",
           "zerolinewidth": 2
          }
         }
        },
        "title": {
         "font": {
          "size": 15
         },
         "text": "Macierz korelacji- zmienne liczbowe i kategoryczne"
        },
        "width": 600,
        "xaxis": {
         "anchor": "y",
         "constrain": "domain",
         "domain": [
          0,
          1
         ],
         "scaleanchor": "y",
         "tickfont": {
          "size": 7
         }
        },
        "yaxis": {
         "anchor": "x",
         "autorange": "reversed",
         "constrain": "domain",
         "domain": [
          0,
          1
         ],
         "tickfont": {
          "size": 7
         }
        }
       }
      }
     },
     "metadata": {},
     "output_type": "display_data"
    }
   ],
   "source": [
    "# Korelacja zmiennych liczbowych\n",
    "plt.figure(figsize=(10,8))\n",
    "sns.heatmap(df.corr(numeric_only=True), cmap=\"coolwarm\", fmt=\".2f\", annot=True)\n",
    "plt.title(\"Macierz korelacji- zmienne liczbowe\")\n",
    "plt.xticks(rotation=90)\n",
    "plt.yticks(rotation=0)\n",
    "plt.tight_layout()\n",
    "plt.show()\n",
    "\n",
    "# Zamiana danych kategorycznych na numeryczne (one-hot encoding)\n",
    "df_encoded = pd.get_dummies(df, drop_first=True)\n",
    "\n",
    "# Korelacja dla wszystkich zmiennych numerycznych + binarnych kategorycznych (po one-hot encoding)\n",
    "corr_matrix = df_encoded.corr()\n",
    "\n",
    "fig = px.imshow(\n",
    "    corr_matrix,\n",
    "    color_continuous_scale=\"RdBu_r\",  # reversed color scale\n",
    "    zmin=-1, zmax=1,\n",
    "    title=\"Macierz korelacji- zmienne liczbowe i kategoryczne\"\n",
    ")\n",
    "fig.update_layout(\n",
    "    width=600,\n",
    "    height=600,\n",
    "    xaxis=dict(tickfont=dict(size=7)),\n",
    "    yaxis=dict(tickfont=dict(size=7)),\n",
    "    title=dict(font=dict(size=15))\n",
    ")\n",
    "fig.show()\n"
   ]
  },
  {
   "cell_type": "code",
   "execution_count": 385,
   "metadata": {},
   "outputs": [
    {
     "data": {
      "image/png": "[encoded data removed]",
      "text/plain": [
       "<Figure size 600x500 with 1 Axes>"
      ]
     },
     "metadata": {},
     "output_type": "display_data"
    },
    {
     "data": {
      "image/png": "[encoded data removed]",
      "text/plain": [
       "<Figure size 600x500 with 1 Axes>"
      ]
     },
     "metadata": {},
     "output_type": "display_data"
    },
    {
     "data": {
      "application/vnd.plotly.v1+json": {
       "config": {
        "plotlyServerURL": "https://plot.ly"
       },
       "data": [
        {
         "hovertemplate": "G1=%{x}<br>G2=%{y}<br>size=%{marker.size}<br>G3=%{marker.color}<extra></extra>",
         "legendgroup": "",
         "marker": {
          "color": [
           6,
           6,
           10,
           15,
           10,
           15,
           11,
           6,
           19,
           15,
           9,
           12,
           14,
           11,
           16,
           14,
           14,
           10,
           5,
           10,
           15,
           15,
           16,
           12,
           8,
           8,
           11,
           15,
           11,
           11,
           12,
           17,
           16,
           12,
           15,
           6,
           18,
           15,
           11,
           13,
           11,
           12,
           18,
           11,
           9,
           6,
           11,
           20,
           14,
           7,
           13,
           13,
           10,
           11,
           13,
           10,
           15,
           15,
           9,
           16,
           11,
           11,
           9,
           9,
           10,
           15,
           12,
           6,
           8,
           16,
           15,
           10,
           5,
           14,
           11,
           10,
           10,
           11,
           10,
           5,
           12,
           11,
           6,
           15,
           10,
           8,
           6,
           14,
           10,
           7,
           8,
           18,
           6,
           10,
           14,
           10,
           15,
           10,
           14,
           8,
           5,
           17,
           14,
           6,
           18,
           11,
           8,
           18,
           13,
           16,
           19,
           10,
           13,
           19,
           9,
           16,
           14,
           13,
           8,
           13,
           15,
           15,
           13,
           13,
           8,
           12,
           11,
           9,
           0,
           18,
           0,
           0,
           12,
           11,
           0,
           0,
           0,
           0,
           12,
           15,
           0,
           9,
           11,
           13,
           0,
           11,
           0,
           11,
           0,
           10,
           0,
           14,
           10,
           0,
           12,
           8,
           13,
           10,
           15,
           12,
           0,
           7,
           0,
           10,
           7,
           12,
           10,
           16,
           0,
           14,
           0,
           16,
           10,
           0,
           9,
           9,
           11,
           6,
           9,
           11,
           8,
           12,
           17,
           8,
           12,
           11,
           11,
           15,
           9,
           10,
           13,
           9,
           8,
           10,
           14,
           15,
           16,
           10,
           18,
           10,
           16,
           10,
           10,
           6,
           11,
           9,
           7,
           13,
           10,
           7,
           8,
           13,
           14,
           8,
           10,
           15,
           4,
           8,
           8,
           10,
           6,
           0,
           17,
           13,
           14,
           7,
           15,
           12,
           9,
           12,
           14,
           11,
           9,
           13,
           6,
           10,
           13,
           12,
           11,
           0,
           12,
           12,
           0,
           12,
           0,
           18,
           13,
           8,
           5,
           15,
           8,
           10,
           8,
           8,
           12,
           8,
           13,
           11,
           14,
           0,
           18,
           8,
           12,
           9,
           0,
           17,
           10,
           11,
           10,
           0,
           9,
           14,
           11,
           14,
           10,
           12,
           9,
           9,
           8,
           10,
           8,
           10,
           12,
           10,
           11,
           11,
           19,
           12,
           14,
           15,
           11,
           15,
           13,
           18,
           14,
           11,
           0,
           8,
           14,
           16,
           11,
           10,
           14,
           18,
           13,
           12,
           18,
           8,
           12,
           10,
           0,
           13,
           11,
           11,
           13,
           11,
           0,
           9,
           10,
           11,
           13,
           9,
           11,
           15,
           15,
           11,
           16,
           10,
           9,
           14,
           8,
           14,
           0,
           0,
           0,
           15,
           13,
           0,
           17,
           10,
           11,
           0,
           15,
           0,
           10,
           14,
           16,
           9,
           15,
           13,
           8,
           13,
           8,
           8,
           11,
           9,
           13,
           11,
           10,
           16,
           13,
           12,
           10,
           15,
           12,
           10,
           13,
           0,
           10,
           11,
           9,
           12,
           11,
           5,
           19,
           10,
           15,
           10,
           15,
           10,
           14,
           7,
           10,
           0,
           5,
           10,
           6,
           0,
           8,
           0,
           9,
           16,
           7,
           10,
           9,
           7,
           7,
           7,
           7
          ],
          "coloraxis": "coloraxis",
          "opacity": 0.4,
          "size": [
           1,
           1,
           4,
           1,
           1,
           1,
           1,
           1,
           1,
           1,
           1,
           1,
           1,
           1,
           1,
           1,
           1,
           1,
           4,
           1,
           1,
           1,
           1,
           1,
           1,
           3,
           1,
           1,
           1,
           1,
           1,
           1,
           1,
           1,
           1,
           1,
           1,
           1,
           1,
           1,
           2,
           1,
           1,
           1,
           2,
           1,
           1,
           1,
           1,
           2,
           1,
           1,
           2,
           1,
           1,
           1,
           1,
           1,
           1,
           1,
           1,
           1,
           1,
           1,
           1,
           1,
           1,
           1,
           1,
           1,
           1,
           1,
           3,
           1,
           1,
           1,
           1,
           1,
           4,
           1,
           1,
           1,
           1,
           1,
           1,
           3,
           1,
           1,
           2,
           1,
           1,
           1,
           1,
           1,
           1,
           2,
           1,
           1,
           1,
           1,
           1,
           1,
           1,
           1,
           1,
           1,
           1,
           1,
           1,
           1,
           1,
           2,
           2,
           1,
           1,
           1,
           1,
           1,
           2,
           1,
           1,
           1,
           1,
           1,
           1,
           1,
           1,
           4,
           3,
           1,
           3,
           1,
           1,
           1,
           1,
           1,
           1,
           3,
           2,
           1,
           1,
           3,
           1,
           1,
           4,
           1,
           4,
           1,
           1,
           4,
           4,
           2,
           3,
           4,
           1,
           1,
           1,
           4,
           1,
           2,
           3,
           3,
           2,
           1,
           4,
           2,
           1,
           1,
           1,
           1,
           3,
           1,
           1,
           4,
           1,
           1,
           1,
           1,
           1,
           1,
           1,
           1,
           1,
           1,
           1,
           1,
           1,
           1,
           1,
           1,
           1,
           1,
           1,
           1,
           1,
           1,
           1,
           1,
           2,
           1,
           1,
           1,
           1,
           1,
           1,
           2,
           4,
           1,
           1,
           1,
           1,
           1,
           1,
           2,
           1,
           1,
           3,
           2,
           1,
           1,
           1,
           2,
           1,
           1,
           1,
           2,
           1,
           1,
           1,
           1,
           1,
           1,
           1,
           1,
           1,
           1,
           1,
           1,
           1,
           2,
           1,
           1,
           1,
           1,
           1,
           1,
           1,
           4,
           2,
           1,
           2,
           1,
           2,
           1,
           1,
           2,
           1,
           1,
           1,
           1,
           1,
           1,
           1,
           1,
           1,
           1,
           1,
           1,
           1,
           1,
           3,
           1,
           1,
           1,
           1,
           1,
           1,
           1,
           2,
           1,
           1,
           2,
           1,
           1,
           1,
           1,
           1,
           1,
           1,
           1,
           1,
           1,
           2,
           1,
           1,
           1,
           1,
           1,
           1,
           1,
           1,
           1,
           1,
           1,
           2,
           2,
           1,
           2,
           2,
           2,
           2,
           1,
           2,
           2,
           3,
           2,
           1,
           1,
           1,
           1,
           1,
           1,
           1,
           1,
           1,
           1,
           1,
           1,
           1,
           1,
           1,
           1,
           1,
           1,
           1,
           1,
           2,
           1,
           1,
           1,
           2,
           2,
           1,
           2,
           1,
           1,
           1,
           1,
           1,
           2,
           4,
           1,
           2,
           2,
           1,
           1,
           1,
           1,
           1,
           1,
           1,
           2,
           1,
           1,
           1,
           1,
           1,
           2,
           1,
           1,
           3,
           1,
           1,
           1,
           1,
           1,
           3,
           1,
           1,
           1,
           1,
           1,
           1,
           2,
           2,
           1,
           1,
           2,
           1,
           2,
           3,
           1,
           4,
           1,
           1,
           1,
           1,
           1,
           1
          ],
          "sizemode": "area",
          "sizeref": 0.04,
          "symbol": "circle"
         },
         "mode": "markers",
         "name": "",
         "orientation": "v",
         "showlegend": false,
         "textposition": "middle center",
         "type": "scatter",
         "x": [
          5,
          5,
          7,
          15,
          6,
          15,
          12,
          6,
          16,
          14,
          10,
          10,
          14,
          10,
          14,
          14,
          13,
          8,
          6,
          8,
          13,
          12,
          15,
          13,
          10,
          6,
          12,
          15,
          11,
          10,
          9,
          17,
          17,
          8,
          12,
          8,
          15,
          15,
          12,
          14,
          7,
          12,
          19,
          8,
          10,
          8,
          11,
          19,
          15,
          7,
          12,
          11,
          11,
          8,
          10,
          8,
          14,
          14,
          9,
          15,
          10,
          10,
          8,
          10,
          10,
          16,
          13,
          7,
          8,
          16,
          13,
          10,
          8,
          12,
          11,
          9,
          11,
          11,
          8,
          5,
          10,
          11,
          7,
          15,
          9,
          7,
          8,
          13,
          11,
          8,
          7,
          16,
          7,
          11,
          11,
          7,
          11,
          8,
          11,
          7,
          7,
          16,
          10,
          7,
          16,
          10,
          7,
          16,
          10,
          14,
          18,
          7,
          10,
          18,
          9,
          15,
          11,
          13,
          9,
          14,
          16,
          16,
          13,
          14,
          8,
          13,
          7,
          7,
          7,
          18,
          12,
          8,
          10,
          12,
          9,
          11,
          10,
          4,
          14,
          16,
          7,
          9,
          9,
          14,
          5,
          8,
          6,
          10,
          7,
          8,
          6,
          12,
          10,
          5,
          11,
          11,
          16,
          9,
          17,
          10,
          7,
          5,
          7,
          10,
          5,
          12,
          10,
          14,
          6,
          14,
          6,
          13,
          13,
          8,
          10,
          10,
          13,
          6,
          10,
          10,
          9,
          12,
          16,
          9,
          12,
          12,
          11,
          15,
          8,
          8,
          11,
          8,
          7,
          8,
          13,
          14,
          17,
          9,
          18,
          9,
          16,
          8,
          9,
          7,
          10,
          10,
          7,
          11,
          9,
          7,
          8,
          12,
          12,
          6,
          8,
          14,
          6,
          6,
          7,
          9,
          6,
          6,
          16,
          12,
          13,
          9,
          16,
          12,
          10,
          12,
          13,
          11,
          11,
          14,
          9,
          11,
          14,
          13,
          13,
          7,
          12,
          10,
          6,
          13,
          7,
          18,
          12,
          6,
          3,
          13,
          6,
          7,
          6,
          8,
          8,
          7,
          14,
          11,
          15,
          10,
          17,
          8,
          13,
          10,
          9,
          17,
          9,
          12,
          10,
          6,
          9,
          15,
          11,
          15,
          10,
          12,
          10,
          9,
          9,
          10,
          8,
          11,
          12,
          8,
          10,
          12,
          18,
          13,
          15,
          15,
          12,
          15,
          12,
          18,
          14,
          14,
          10,
          10,
          14,
          16,
          12,
          11,
          15,
          17,
          15,
          14,
          17,
          8,
          15,
          12,
          9,
          14,
          13,
          13,
          15,
          13,
          8,
          9,
          11,
          11,
          13,
          11,
          11,
          12,
          16,
          9,
          14,
          11,
          10,
          14,
          9,
          12,
          7,
          8,
          10,
          16,
          14,
          7,
          16,
          9,
          11,
          10,
          16,
          9,
          11,
          13,
          16,
          10,
          13,
          11,
          8,
          13,
          8,
          8,
          13,
          10,
          12,
          12,
          10,
          18,
          13,
          13,
          11,
          16,
          12,
          10,
          13,
          7,
          11,
          14,
          7,
          14,
          13,
          6,
          19,
          8,
          15,
          8,
          15,
          10,
          15,
          7,
          11,
          6,
          6,
          10,
          6,
          7,
          7,
          6,
          9,
          14,
          10,
          11,
          8,
          8,
          8,
          8,
          8
         ],
         "xaxis": "x",
         "y": [
          6,
          5,
          8,
          14,
          10,
          15,
          12,
          5,
          18,
          15,
          8,
          12,
          14,
          10,
          16,
          14,
          14,
          10,
          5,
          10,
          14,
          15,
          15,
          13,
          9,
          9,
          12,
          16,
          11,
          12,
          11,
          16,
          16,
          10,
          14,
          7,
          16,
          16,
          12,
          13,
          10,
          12,
          18,
          8,
          10,
          8,
          12,
          19,
          15,
          7,
          13,
          13,
          11,
          10,
          13,
          9,
          15,
          15,
          10,
          16,
          11,
          8,
          10,
          9,
          10,
          15,
          13,
          7,
          9,
          16,
          15,
          10,
          6,
          12,
          12,
          9,
          11,
          11,
          8,
          5,
          12,
          10,
          6,
          15,
          10,
          9,
          7,
          14,
          10,
          6,
          7,
          17,
          6,
          10,
          13,
          10,
          15,
          9,
          14,
          9,
          7,
          17,
          13,
          6,
          18,
          11,
          8,
          18,
          13,
          15,
          19,
          10,
          13,
          19,
          9,
          15,
          13,
          14,
          7,
          13,
          15,
          14,
          13,
          11,
          7,
          13,
          10,
          8,
          4,
          18,
          0,
          0,
          13,
          11,
          0,
          0,
          0,
          0,
          12,
          16,
          9,
          9,
          11,
          14,
          0,
          11,
          7,
          11,
          6,
          9,
          5,
          13,
          10,
          0,
          11,
          8,
          12,
          8,
          15,
          12,
          6,
          9,
          0,
          10,
          8,
          11,
          10,
          15,
          7,
          14,
          5,
          15,
          11,
          7,
          11,
          9,
          13,
          5,
          8,
          10,
          8,
          13,
          17,
          9,
          13,
          12,
          12,
          15,
          7,
          9,
          12,
          8,
          8,
          9,
          14,
          15,
          15,
          9,
          18,
          9,
          16,
          10,
          9,
          6,
          10,
          9,
          7,
          12,
          9,
          7,
          8,
          12,
          13,
          7,
          10,
          15,
          6,
          6,
          7,
          10,
          6,
          5,
          16,
          13,
          13,
          8,
          15,
          11,
          8,
          10,
          13,
          11,
          9,
          13,
          7,
          9,
          13,
          12,
          11,
          7,
          12,
          11,
          0,
          12,
          0,
          18,
          12,
          8,
          5,
          15,
          8,
          10,
          9,
          9,
          12,
          9,
          12,
          11,
          14,
          9,
          18,
          8,
          12,
          9,
          10,
          17,
          9,
          10,
          9,
          0,
          9,
          14,
          11,
          14,
          10,
          12,
          9,
          9,
          8,
          11,
          8,
          9,
          12,
          9,
          9,
          10,
          18,
          12,
          14,
          13,
          11,
          15,
          12,
          18,
          13,
          12,
          9,
          8,
          13,
          15,
          10,
          11,
          12,
          17,
          14,
          12,
          18,
          9,
          12,
          10,
          9,
          12,
          11,
          10,
          13,
          11,
          8,
          10,
          11,
          11,
          13,
          9,
          11,
          14,
          15,
          12,
          15,
          10,
          9,
          14,
          8,
          14,
          0,
          8,
          9,
          15,
          13,
          8,
          15,
          10,
          12,
          10,
          15,
          8,
          10,
          13,
          15,
          10,
          15,
          13,
          7,
          13,
          7,
          8,
          11,
          9,
          13,
          12,
          10,
          16,
          13,
          12,
          11,
          15,
          11,
          10,
          13,
          6,
          10,
          12,
          7,
          12,
          11,
          5,
          18,
          8,
          14,
          9,
          15,
          10,
          14,
          6,
          11,
          5,
          5,
          9,
          5,
          5,
          9,
          5,
          9,
          16,
          8,
          12,
          9,
          7,
          7,
          7,
          7
         ],
         "yaxis": "y"
        }
       ],
       "layout": {
        "coloraxis": {
         "colorbar": {
          "title": {
           "text": "G3"
          }
         },
         "colorscale": [
          [
           0,
           "#0d0887"
          ],
          [
           0.1111111111111111,
           "#46039f"
          ],
          [
           0.2222222222222222,
           "#7201a8"
          ],
          [
           0.3333333333333333,
           "#9c179e"
          ],
          [
           0.4444444444444444,
           "#bd3786"
          ],
          [
           0.5555555555555556,
           "#d8576b"
          ],
          [
           0.6666666666666666,
           "#ed7953"
          ],
          [
           0.7777777777777778,
           "#fb9f3a"
          ],
          [
           0.8888888888888888,
           "#fdca26"
          ],
          [
           1,
           "#f0f921"
          ]
         ]
        },
        "legend": {
         "itemsizing": "constant",
         "tracegroupgap": 0
        },
        "template": {
         "data": {
          "bar": [
           {
            "error_x": {
             "color": "#2a3f5f"
            },
            "error_y": {
             "color": "#2a3f5f"
            },
            "marker": {
             "line": {
              "color": "#E5ECF6",
              "width": 0.5
             },
             "pattern": {
              "fillmode": "overlay",
              "size": 10,
              "solidity": 0.2
             }
            },
            "type": "bar"
           }
          ],
          "barpolar": [
           {
            "marker": {
             "line": {
              "color": "#E5ECF6",
              "width": 0.5
             },
             "pattern": {
              "fillmode": "overlay",
              "size": 10,
              "solidity": 0.2
             }
            },
            "type": "barpolar"
           }
          ],
          "carpet": [
           {
            "aaxis": {
             "endlinecolor": "#2a3f5f",
             "gridcolor": "white",
             "linecolor": "white",
             "minorgridcolor": "white",
             "startlinecolor": "#2a3f5f"
            },
            "baxis": {
             "endlinecolor": "#2a3f5f",
             "gridcolor": "white",
             "linecolor": "white",
             "minorgridcolor": "white",
             "startlinecolor": "#2a3f5f"
            },
            "type": "carpet"
           }
          ],
          "choropleth": [
           {
            "colorbar": {
             "outlinewidth": 0,
             "ticks": ""
            },
            "type": "choropleth"
           }
          ],
          "contour": [
           {
            "colorbar": {
             "outlinewidth": 0,
             "ticks": ""
            },
            "colorscale": [
             [
              0,
              "#0d0887"
             ],
             [
              0.1111111111111111,
              "#46039f"
             ],
             [
              0.2222222222222222,
              "#7201a8"
             ],
             [
              0.3333333333333333,
              "#9c179e"
             ],
             [
              0.4444444444444444,
              "#bd3786"
             ],
             [
              0.5555555555555556,
              "#d8576b"
             ],
             [
              0.6666666666666666,
              "#ed7953"
             ],
             [
              0.7777777777777778,
              "#fb9f3a"
             ],
             [
              0.8888888888888888,
              "#fdca26"
             ],
             [
              1,
              "#f0f921"
             ]
            ],
            "type": "contour"
           }
          ],
          "contourcarpet": [
           {
            "colorbar": {
             "outlinewidth": 0,
             "ticks": ""
            },
            "type": "contourcarpet"
           }
          ],
          "heatmap": [
           {
            "colorbar": {
             "outlinewidth": 0,
             "ticks": ""
            },
            "colorscale": [
             [
              0,
              "#0d0887"
             ],
             [
              0.1111111111111111,
              "#46039f"
             ],
             [
              0.2222222222222222,
              "#7201a8"
             ],
             [
              0.3333333333333333,
              "#9c179e"
             ],
             [
              0.4444444444444444,
              "#bd3786"
             ],
             [
              0.5555555555555556,
              "#d8576b"
             ],
             [
              0.6666666666666666,
              "#ed7953"
             ],
             [
              0.7777777777777778,
              "#fb9f3a"
             ],
             [
              0.8888888888888888,
              "#fdca26"
             ],
             [
              1,
              "#f0f921"
             ]
            ],
            "type": "heatmap"
           }
          ],
          "heatmapgl": [
           {
            "colorbar": {
             "outlinewidth": 0,
             "ticks": ""
            },
            "colorscale": [
             [
              0,
              "#0d0887"
             ],
             [
              0.1111111111111111,
              "#46039f"
             ],
             [
              0.2222222222222222,
              "#7201a8"
             ],
             [
              0.3333333333333333,
              "#9c179e"
             ],
             [
              0.4444444444444444,
              "#bd3786"
             ],
             [
              0.5555555555555556,
              "#d8576b"
             ],
             [
              0.6666666666666666,
              "#ed7953"
             ],
             [
              0.7777777777777778,
              "#fb9f3a"
             ],
             [
              0.8888888888888888,
              "#fdca26"
             ],
             [
              1,
              "#f0f921"
             ]
            ],
            "type": "heatmapgl"
           }
          ],
          "histogram": [
           {
            "marker": {
             "pattern": {
              "fillmode": "overlay",
              "size": 10,
              "solidity": 0.2
             }
            },
            "type": "histogram"
           }
          ],
          "histogram2d": [
           {
            "colorbar": {
             "outlinewidth": 0,
             "ticks": ""
            },
            "colorscale": [
             [
              0,
              "#0d0887"
             ],
             [
              0.1111111111111111,
              "#46039f"
             ],
             [
              0.2222222222222222,
              "#7201a8"
             ],
             [
              0.3333333333333333,
              "#9c179e"
             ],
             [
              0.4444444444444444,
              "#bd3786"
             ],
             [
              0.5555555555555556,
              "#d8576b"
             ],
             [
              0.6666666666666666,
              "#ed7953"
             ],
             [
              0.7777777777777778,
              "#fb9f3a"
             ],
             [
              0.8888888888888888,
              "#fdca26"
             ],
             [
              1,
              "#f0f921"
             ]
            ],
            "type": "histogram2d"
           }
          ],
          "histogram2dcontour": [
           {
            "colorbar": {
             "outlinewidth": 0,
             "ticks": ""
            },
            "colorscale": [
             [
              0,
              "#0d0887"
             ],
             [
              0.1111111111111111,
              "#46039f"
             ],
             [
              0.2222222222222222,
              "#7201a8"
             ],
             [
              0.3333333333333333,
              "#9c179e"
             ],
             [
              0.4444444444444444,
              "#bd3786"
             ],
             [
              0.5555555555555556,
              "#d8576b"
             ],
             [
              0.6666666666666666,
              "#ed7953"
             ],
             [
              0.7777777777777778,
              "#fb9f3a"
             ],
             [
              0.8888888888888888,
              "#fdca26"
             ],
             [
              1,
              "#f0f921"
             ]
            ],
            "type": "histogram2dcontour"
           }
          ],
          "mesh3d": [
           {
            "colorbar": {
             "outlinewidth": 0,
             "ticks": ""
            },
            "type": "mesh3d"
           }
          ],
          "parcoords": [
           {
            "line": {
             "colorbar": {
              "outlinewidth": 0,
              "ticks": ""
             }
            },
            "type": "parcoords"
           }
          ],
          "pie": [
           {
            "automargin": true,
            "type": "pie"
           }
          ],
          "scatter": [
           {
            "fillpattern": {
             "fillmode": "overlay",
             "size": 10,
             "solidity": 0.2
            },
            "type": "scatter"
           }
          ],
          "scatter3d": [
           {
            "line": {
             "colorbar": {
              "outlinewidth": 0,
              "ticks": ""
             }
            },
            "marker": {
             "colorbar": {
              "outlinewidth": 0,
              "ticks": ""
             }
            },
            "type": "scatter3d"
           }
          ],
          "scattercarpet": [
           {
            "marker": {
             "colorbar": {
              "outlinewidth": 0,
              "ticks": ""
             }
            },
            "type": "scattercarpet"
           }
          ],
          "scattergeo": [
           {
            "marker": {
             "colorbar": {
              "outlinewidth": 0,
              "ticks": ""
             }
            },
            "type": "scattergeo"
           }
          ],
          "scattergl": [
           {
            "marker": {
             "colorbar": {
              "outlinewidth": 0,
              "ticks": ""
             }
            },
            "type": "scattergl"
           }
          ],
          "scattermapbox": [
           {
            "marker": {
             "colorbar": {
              "outlinewidth": 0,
              "ticks": ""
             }
            },
            "type": "scattermapbox"
           }
          ],
          "scatterpolar": [
           {
            "marker": {
             "colorbar": {
              "outlinewidth": 0,
              "ticks": ""
             }
            },
            "type": "scatterpolar"
           }
          ],
          "scatterpolargl": [
           {
            "marker": {
             "colorbar": {
              "outlinewidth": 0,
              "ticks": ""
             }
            },
            "type": "scatterpolargl"
           }
          ],
          "scatterternary": [
           {
            "marker": {
             "colorbar": {
              "outlinewidth": 0,
              "ticks": ""
             }
            },
            "type": "scatterternary"
           }
          ],
          "surface": [
           {
            "colorbar": {
             "outlinewidth": 0,
             "ticks": ""
            },
            "colorscale": [
             [
              0,
              "#0d0887"
             ],
             [
              0.1111111111111111,
              "#46039f"
             ],
             [
              0.2222222222222222,
              "#7201a8"
             ],
             [
              0.3333333333333333,
              "#9c179e"
             ],
             [
              0.4444444444444444,
              "#bd3786"
             ],
             [
              0.5555555555555556,
              "#d8576b"
             ],
             [
              0.6666666666666666,
              "#ed7953"
             ],
             [
              0.7777777777777778,
              "#fb9f3a"
             ],
             [
              0.8888888888888888,
              "#fdca26"
             ],
             [
              1,
              "#f0f921"
             ]
            ],
            "type": "surface"
           }
          ],
          "table": [
           {
            "cells": {
             "fill": {
              "color": "#EBF0F8"
             },
             "line": {
              "color": "white"
             }
            },
            "header": {
             "fill": {
              "color": "#C8D4E3"
             },
             "line": {
              "color": "white"
             }
            },
            "type": "table"
           }
          ]
         },
         "layout": {
          "annotationdefaults": {
           "arrowcolor": "#2a3f5f",
           "arrowhead": 0,
           "arrowwidth": 1
          },
          "autotypenumbers": "strict",
          "coloraxis": {
           "colorbar": {
            "outlinewidth": 0,
            "ticks": ""
           }
          },
          "colorscale": {
           "diverging": [
            [
             0,
             "#8e0152"
            ],
            [
             0.1,
             "#c51b7d"
            ],
            [
             0.2,
             "#de77ae"
            ],
            [
             0.3,
             "#f1b6da"
            ],
            [
             0.4,
             "#fde0ef"
            ],
            [
             0.5,
             "#f7f7f7"
            ],
            [
             0.6,
             "#e6f5d0"
            ],
            [
             0.7,
             "#b8e186"
            ],
            [
             0.8,
             "#7fbc41"
            ],
            [
             0.9,
             "#4d9221"
            ],
            [
             1,
             "#276419"
            ]
           ],
           "sequential": [
            [
             0,
             "#0d0887"
            ],
            [
             0.1111111111111111,
             "#46039f"
            ],
            [
             0.2222222222222222,
             "#7201a8"
            ],
            [
             0.3333333333333333,
             "#9c179e"
            ],
            [
             0.4444444444444444,
             "#bd3786"
            ],
            [
             0.5555555555555556,
             "#d8576b"
            ],
            [
             0.6666666666666666,
             "#ed7953"
            ],
            [
             0.7777777777777778,
             "#fb9f3a"
            ],
            [
             0.8888888888888888,
             "#fdca26"
            ],
            [
             1,
             "#f0f921"
            ]
           ],
           "sequentialminus": [
            [
             0,
             "#0d0887"
            ],
            [
             0.1111111111111111,
             "#46039f"
            ],
            [
             0.2222222222222222,
             "#7201a8"
            ],
            [
             0.3333333333333333,
             "#9c179e"
            ],
            [
             0.4444444444444444,
             "#bd3786"
            ],
            [
             0.5555555555555556,
             "#d8576b"
            ],
            [
             0.6666666666666666,
             "#ed7953"
            ],
            [
             0.7777777777777778,
             "#fb9f3a"
            ],
            [
             0.8888888888888888,
             "#fdca26"
            ],
            [
             1,
             "#f0f921"
            ]
           ]
          },
          "colorway": [
           "#636efa",
           "#EF553B",
           "#00cc96",
           "#ab63fa",
           "#FFA15A",
           "#19d3f3",
           "#FF6692",
           "#B6E880",
           "#FF97FF",
           "#FECB52"
          ],
          "font": {
           "color": "#2a3f5f"
          },
          "geo": {
           "bgcolor": "white",
           "lakecolor": "white",
           "landcolor": "#E5ECF6",
           "showlakes": true,
           "showland": true,
           "subunitcolor": "white"
          },
          "hoverlabel": {
           "align": "left"
          },
          "hovermode": "closest",
          "mapbox": {
           "style": "light"
          },
          "paper_bgcolor": "white",
          "plot_bgcolor": "#E5ECF6",
          "polar": {
           "angularaxis": {
            "gridcolor": "white",
            "linecolor": "white",
            "ticks": ""
           },
           "bgcolor": "#E5ECF6",
           "radialaxis": {
            "gridcolor": "white",
            "linecolor": "white",
            "ticks": ""
           }
          },
          "scene": {
           "xaxis": {
            "backgroundcolor": "#E5ECF6",
            "gridcolor": "white",
            "gridwidth": 2,
            "linecolor": "white",
            "showbackground": true,
            "ticks": "",
            "zerolinecolor": "white"
           },
           "yaxis": {
            "backgroundcolor": "#E5ECF6",
            "gridcolor": "white",
            "gridwidth": 2,
            "linecolor": "white",
            "showbackground": true,
            "ticks": "",
            "zerolinecolor": "white"
           },
           "zaxis": {
            "backgroundcolor": "#E5ECF6",
            "gridcolor": "white",
            "gridwidth": 2,
            "linecolor": "white",
            "showbackground": true,
            "ticks": "",
            "zerolinecolor": "white"
           }
          },
          "shapedefaults": {
           "line": {
            "color": "#2a3f5f"
           }
          },
          "ternary": {
           "aaxis": {
            "gridcolor": "white",
            "linecolor": "white",
            "ticks": ""
           },
           "baxis": {
            "gridcolor": "white",
            "linecolor": "white",
            "ticks": ""
           },
           "bgcolor": "#E5ECF6",
           "caxis": {
            "gridcolor": "white",
            "linecolor": "white",
            "ticks": ""
           }
          },
          "title": {
           "x": 0.05
          },
          "xaxis": {
           "automargin": true,
           "gridcolor": "white",
           "linecolor": "white",
           "ticks": "",
           "title": {
            "standoff": 15
           },
           "zerolinecolor": "white",
           "zerolinewidth": 2
          },
          "yaxis": {
           "automargin": true,
           "gridcolor": "white",
           "linecolor": "white",
           "ticks": "",
           "title": {
            "standoff": 15
           },
           "zerolinecolor": "white",
           "zerolinewidth": 2
          }
         }
        },
        "title": {
         "text": "Zależności między G1, G2 oraz G3  (rozmiar punktów wg liczby niepowodzeń)"
        },
        "xaxis": {
         "anchor": "y",
         "domain": [
          0,
          1
         ],
         "title": {
          "text": "G1"
         }
        },
        "yaxis": {
         "anchor": "x",
         "domain": [
          0,
          1
         ],
         "title": {
          "text": "G2"
         }
        }
       }
      }
     },
     "metadata": {},
     "output_type": "display_data"
    }
   ],
   "source": [
    "\n",
    "# Scatterplot G1 vs G3\n",
    "sns.lmplot(data=df, x=\"G1\", y=\"G3\", height=5, aspect=1.2)\n",
    "plt.title(\"Zależność między oceną G1 a oceną końcową G3\")\n",
    "plt.show()\n",
    "\n",
    "# Scatterplot G2 vs G3\n",
    "sns.lmplot(data=df, x=\"G2\", y=\"G3\", height=5, aspect=1.2)\n",
    "plt.title(\"Zależność między oceną G2 a oceną końcową G3\")\n",
    "plt.show()\n",
    "\n",
    "# Wykres punktowy G1 vs G2 z rozmiarem punktów wg liczby niepowodzeń i kolorem wg G3\n",
    "fig = px.scatter(\n",
    "    df,\n",
    "    x='G1',\n",
    "    y='G2',\n",
    "    color='G3',\n",
    "    size=df['failures'] + 1,  # Dodanie stałej, aby uniknąć zerowych rozmiarów\n",
    "    title='Zależności między G1, G2 oraz G3  (rozmiar punktów wg liczby niepowodzeń)',\n",
    "    opacity=0.4,\n",
    "    size_max=10,\n",
    ")\n",
    "\n",
    "fig.update_traces(textposition='middle center')\n",
    "fig.show()"
   ]
  },
  {
   "cell_type": "markdown",
   "metadata": {},
   "source": [
    "## Wnioski\n",
    "\n",
    "### Główne pytania:\n",
    "1. **Jakie czynniki demograficzne i społeczne wpływają na końcowy wynik w matematyce (`G3`)?**<br>\n",
    "Głównym czynnikiem jest tu wykształcenie rodziców. W dużo mniejszym stopniu wpływ ma pochodzenie z miasta czy wsi, oraz płeć. \n",
    "2. **Czy czas nauki i dodatkowe wsparcie edukacyjne przekładają się na lepsze oceny?**<br>\n",
    "Czas nauki istotnie wpływa na lepsze oceny dla osób które nie otrzymują dodatkowego wsparcia edukacyjnego. Co ciekawe osoby, które takie wsparcie otrzymują, dostają gorsze oceny wraz z ilością czasu nauki. \n",
    "<!-- 3. **W jakim stopniu styl życia uczniów (zdrowie, czas wolny, picie alkoholu) koreluje z wynikami?**<br> -->\n",
    "\n",
    "\n",
    "### Poboczne pytania:\n",
    "1. **Czy wyniki różnią się między dziewczętami a chłopcami?**<br>\n",
    "Niewielka różnica średnich (chłopcy wyżej) istnieje, jednak nie można powiedzieć, że płeć determinuje wyniki w sposób jednoznaczny.\n",
    "2. **Czy uczniowie mieszkający w mieście i na wsi osiągają podobne wyniki?**<br>\n",
    "Tak, choć różnice są niewielkie. Uczniowie z miast mają wyższe średnie, ale efekt nie jest silny.\n",
    "3. **Czy poziom edukacji rodziców ma wyraźny wpływ na sukcesy uczniów?**<br>\n",
    "Tak, widać tu trend: im wyższe wykształcenie rodziców (poza sytuacją z brakiem wykształcenia), tym wyższe średnie G3. Dodatkowo uczniowie rodziców z brakiem wykształcenia średnio osiągają najwyższe wyniki w G3. \n",
    "4. **Czy liczba nieobecności jest negatywnie skorelowana z oceną końcową?**<br>\n",
    "Nie widać wyraźnego wpływu nieobecności na ocenę końcową. <br>\n",
    "Korelacja Pearsona: 0.039 p-wartość: 0.43<br>\n",
    "Korelacja Spearmana: 0.035 p-wartość: 0.48<br>\n",
    "5. **Jaki jest wpływ poprzednich niepowodzeń na obecną ocenę?**<br>\n",
    "Niepowodzenia mają silny negatywny wpływ. Im więcej było niepowodzeń poprzednio, tym większa szansa, że uczeń dostanie gorszą ocenę G3. \n",
    "6. **Jak silny jest wpływ ocen `G1` i `G2` na ocenę końcową `G3`?**<br>\n",
    "Jest on bardzo silny. <br>\n",
    "Korelacja Pearsona G1-G3: statistic=0.80, pvalue=3.83<br>\n",
    "Korelacja Spearmana G1-G3: statistic=0.88, pvalue=5.17<br>\n",
    "Korelacja Pearsona G2-G3: statistic=0.91, pvalue=1.05<br>\n",
    "Korelacja Spearmana G2-G3: statistic=0.96, pvalue=6.70<br>"
   ]
  }
 ],
 "metadata": {
  "kernelspec": {
   "display_name": "base",
   "language": "python",
   "name": "python3"
  },
  "language_info": {
   "codemirror_mode": {
    "name": "ipython",
    "version": 3
   },
   "file_extension": ".py",
   "mimetype": "text/x-python",
   "name": "python",
   "nbconvert_exporter": "python",
   "pygments_lexer": "ipython3",
   "version": "3.13.2"
  }
 },
 "nbformat": 4,
 "nbformat_minor": 2
}
